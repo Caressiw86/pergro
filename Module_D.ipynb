{
  "nbformat": 4,
  "nbformat_minor": 0,
  "metadata": {
    "colab": {
      "name": "Module D.ipynb",
      "provenance": [],
      "collapsed_sections": [
        "Sr_eosHEt1J_"
      ],
      "toc_visible": true
    },
    "kernelspec": {
      "name": "python3",
      "display_name": "Python 3"
    },
    "language_info": {
      "name": "python"
    }
  },
  "cells": [
    {
      "cell_type": "markdown",
      "source": [
        "#Introduction"
      ],
      "metadata": {
        "id": "sU6UjIJbl9Qe"
      }
    },
    {
      "cell_type": "markdown",
      "source": [
        "Linear algebra is a field of mathematics that is widely used in various disciplines. Linear algebra plays an important role in data science and machine\n",
        "learning. A solid understanding of linear algebra concepts can enhance the\n",
        "understanding of many data science and machine learning algorithms. This\n",
        "chapter introduces basic concepts for data science and includes vector spaces,\n",
        "orthogonality, eigenvalues, matrix decomposition and further expanded to include linear regression and principal component analysis where linear algebra\n",
        "plays a central role for solving data science problems. More advanced concepts\n",
        "and applications of linear algebra can be found in many references $[1, 2, 3, 4]$."
      ],
      "metadata": {
        "id": "_YeS8fbTmCHz"
      }
    },
    {
      "cell_type": "markdown",
      "source": [
        "#Elements of Linear Algebra\n"
      ],
      "metadata": {
        "id": "BOtMuUHAl9Xb"
      }
    },
    {
      "cell_type": "markdown",
      "source": [
        "##Linear Spaces"
      ],
      "metadata": {
        "id": "K9xLEBQRmqlK"
      }
    },
    {
      "cell_type": "markdown",
      "source": [
        "###Linear Combinations"
      ],
      "metadata": {
        "id": "XJ58jcOamqe7"
      }
    },
    {
      "cell_type": "code",
      "source": [
        "import numpy as np\n",
        "v = np.array([[3.3],[11]])\n",
        "w = np.array([[-2],[-40]])\n",
        "a = 1.5\n",
        "b = 4.9\n",
        "u = a*v + b*w\n",
        "u"
      ],
      "metadata": {
        "colab": {
          "base_uri": "https://localhost:8080/"
        },
        "id": "9u4AmhBgoojI",
        "outputId": "1475e474-dfa4-4689-a05d-390b8f1cb645"
      },
      "execution_count": 68,
      "outputs": [
        {
          "output_type": "execute_result",
          "data": {
            "text/plain": [
              "array([[  -4.85],\n",
              "       [-179.5 ]])"
            ]
          },
          "metadata": {},
          "execution_count": 68
        }
      ]
    },
    {
      "cell_type": "code",
      "source": [
        "import numpy as np\n",
        "x = np.array([[4, 8, 1],\n",
        "              [2, 11, 0],\n",
        "              [1, 7.4, 0.2]])\n",
        "y = ([3.65, 1.55, 3.42])\n",
        "result = np.linalg.solve(x, y)\n",
        "result"
      ],
      "metadata": {
        "colab": {
          "base_uri": "https://localhost:8080/"
        },
        "id": "SsZ-jHdGnLml",
        "outputId": "6bfc2db6-7dde-421e-af49-62f1f75209ae"
      },
      "execution_count": 69,
      "outputs": [
        {
          "output_type": "execute_result",
          "data": {
            "text/plain": [
              "array([-2.19148936,  0.5393617 ,  8.10106383])"
            ]
          },
          "metadata": {},
          "execution_count": 69
        }
      ]
    },
    {
      "cell_type": "markdown",
      "source": [
        "###Linear Independence and Dimension\n"
      ],
      "metadata": {
        "id": "nV43pejOmqOA"
      }
    },
    {
      "cell_type": "code",
      "source": [
        "import sympy\n",
        "import numpy as np\n",
        "matrix = np.array([[2,1,7],[2,9,11]]) \n",
        "_, inds = sympy.Matrix(matrix).T.rref()\n",
        "print(inds)"
      ],
      "metadata": {
        "colab": {
          "base_uri": "https://localhost:8080/"
        },
        "id": "H_i1l1ExnMZn",
        "outputId": "48a0d109-8b12-4e80-ab15-62da91500118"
      },
      "execution_count": 70,
      "outputs": [
        {
          "output_type": "stream",
          "name": "stdout",
          "text": [
            "(0, 1)\n"
          ]
        }
      ]
    },
    {
      "cell_type": "markdown",
      "source": [
        "This means vetor 0 and vector 1 are linearly independent."
      ],
      "metadata": {
        "id": "-lZ2rcwts2fC"
      }
    },
    {
      "cell_type": "code",
      "source": [
        "matrix = np.array([[0,1,0,0],[0,0,1,0],[0,1,1,0],[1,0,0,1]]) \n",
        "_, inds = sympy.Matrix(matrix).T.rref()\n",
        "print(inds)"
      ],
      "metadata": {
        "colab": {
          "base_uri": "https://localhost:8080/"
        },
        "id": "E8INoUvuss3L",
        "outputId": "77fcc50c-db35-45dd-89ab-aa82c951d428"
      },
      "execution_count": 71,
      "outputs": [
        {
          "output_type": "stream",
          "name": "stdout",
          "text": [
            "(0, 1, 3)\n"
          ]
        }
      ]
    },
    {
      "cell_type": "markdown",
      "source": [
        "This means vetor 0, vector 1, and vector 3 are lineatly independent while vector 2 is linearly dependent."
      ],
      "metadata": {
        "id": "b5dIh30Hsblj"
      }
    },
    {
      "cell_type": "markdown",
      "source": [
        "##Orthogonality"
      ],
      "metadata": {
        "id": "B7D5pfd4tHhJ"
      }
    },
    {
      "cell_type": "markdown",
      "source": [
        "Inner product"
      ],
      "metadata": {
        "id": "c5lGX8m1vFcq"
      }
    },
    {
      "cell_type": "code",
      "source": [
        "a = np.array([1.6,2.5,3.9])\n",
        "b = np.array([4,1,11])\n",
        "np.inner(a, b)"
      ],
      "metadata": {
        "colab": {
          "base_uri": "https://localhost:8080/"
        },
        "id": "5PL7oE51ue6c",
        "outputId": "bee29261-8bcc-4b47-e5a6-3bdee3454879"
      },
      "execution_count": 72,
      "outputs": [
        {
          "output_type": "execute_result",
          "data": {
            "text/plain": [
              "51.8"
            ]
          },
          "metadata": {},
          "execution_count": 72
        }
      ]
    },
    {
      "cell_type": "markdown",
      "source": [
        "Norm"
      ],
      "metadata": {
        "id": "g2zseWBcvRk2"
      }
    },
    {
      "cell_type": "code",
      "source": [
        "from numpy import linalg as LA\n",
        "c = np.array([[ 1.3, -7.2, 12.1],\n",
        "              [-1, 0, 4]])\n",
        "LA.norm(c)"
      ],
      "metadata": {
        "colab": {
          "base_uri": "https://localhost:8080/"
        },
        "id": "sbrhNUS4vOmr",
        "outputId": "99c253d3-120f-40c8-8682-204d765673db"
      },
      "execution_count": 73,
      "outputs": [
        {
          "output_type": "execute_result",
          "data": {
            "text/plain": [
              "14.728883189162714"
            ]
          },
          "metadata": {},
          "execution_count": 73
        }
      ]
    },
    {
      "cell_type": "markdown",
      "source": [
        "Orthogonality"
      ],
      "metadata": {
        "id": "vYkf2gcnyS1e"
      }
    },
    {
      "cell_type": "code",
      "source": [
        "v1 = np.array([1,-2, 4])\n",
        "v2 = np.array([2, 5, 2])\n",
        "dot_product = np.dot(v1,v2)\n",
        "if dot_product == 0:\n",
        "  print('v1 and v2 are orthorgonal')\n",
        "else: print('v1 and v2 are not orthorgonal')"
      ],
      "metadata": {
        "colab": {
          "base_uri": "https://localhost:8080/"
        },
        "id": "uuizTL3xwrla",
        "outputId": "8cf2766c-b383-4d1f-d3b0-97e134c0606e"
      },
      "execution_count": 74,
      "outputs": [
        {
          "output_type": "stream",
          "name": "stdout",
          "text": [
            "v1 and v2 are orthorgonal\n"
          ]
        }
      ]
    },
    {
      "cell_type": "code",
      "source": [
        "n1 = LA.norm(v1)\n",
        "n2 = LA.norm(v2)\n",
        "if n1 == 1 and n2 == 1:\n",
        "  print('v1 and v2 are orthornormal')\n",
        "else: print('v1 and v2 are not orthornormal')\n"
      ],
      "metadata": {
        "colab": {
          "base_uri": "https://localhost:8080/"
        },
        "id": "q-_6IqAKxJIH",
        "outputId": "7b4ed4e7-e22c-4703-eccf-3cefcbb1e019"
      },
      "execution_count": 75,
      "outputs": [
        {
          "output_type": "stream",
          "name": "stdout",
          "text": [
            "v1 and v2 are not orthornormal\n"
          ]
        }
      ]
    },
    {
      "cell_type": "markdown",
      "source": [
        "##Gram-Schmidt Process"
      ],
      "metadata": {
        "id": "K4c_1y4stL5r"
      }
    },
    {
      "cell_type": "code",
      "source": [
        "import numpy as np\n",
        "def gs(X):\n",
        "    Q, R = np.linalg.qr(X)\n",
        "    return Q"
      ],
      "metadata": {
        "id": "1qZRJcYNyUrh"
      },
      "execution_count": 76,
      "outputs": []
    },
    {
      "cell_type": "code",
      "source": [
        "X = np.array([[3,-1,0],[1.8,11.3,-7.5], [4,13/4,-7/3]])\n",
        "gs(X)"
      ],
      "metadata": {
        "colab": {
          "base_uri": "https://localhost:8080/"
        },
        "id": "tZqg1DRQ_2Mu",
        "outputId": "862c299d-36f0-421e-8338-3b2568aab10e"
      },
      "execution_count": 77,
      "outputs": [
        {
          "output_type": "execute_result",
          "data": {
            "text/plain": [
              "array([[-0.56453245,  0.40891852, -0.71699983],\n",
              "       [-0.33871947, -0.90691722, -0.25053997],\n",
              "       [-0.75270993,  0.10142386,  0.65049286]])"
            ]
          },
          "metadata": {},
          "execution_count": 77
        }
      ]
    },
    {
      "cell_type": "markdown",
      "source": [
        "##Eigenvalues and Eigenvectors"
      ],
      "metadata": {
        "id": "bsADBIPktMQr"
      }
    },
    {
      "cell_type": "code",
      "source": [
        "import numpy as np\n",
        "from numpy.linalg import eig\n",
        "a = np.array([[2.1, -5/2, 11.4], \n",
        "              [1, 3, 5],\n",
        "              [2.4, 3.5, 7.4]])\n",
        "u,v=eig(a)\n",
        "print('E-value:', u)\n",
        "print('E-vector', v)"
      ],
      "metadata": {
        "colab": {
          "base_uri": "https://localhost:8080/"
        },
        "id": "p4PGgISABCpe",
        "outputId": "91d0aa1d-fea4-4947-e506-6cd99405c403"
      },
      "execution_count": 78,
      "outputs": [
        {
          "output_type": "stream",
          "name": "stdout",
          "text": [
            "E-value: [12.05944603 -1.69840975  2.13896373]\n",
            "E-vector [[-0.63272391 -0.94998594  0.88313257]\n",
            " [-0.42654701 -0.10917553 -0.45885676]\n",
            " [-0.64631115  0.29258746 -0.09760805]]\n"
          ]
        }
      ]
    },
    {
      "cell_type": "markdown",
      "source": [
        "#Linear Regression"
      ],
      "metadata": {
        "id": "n_3ZcgCMmRBQ"
      }
    },
    {
      "cell_type": "markdown",
      "source": [
        "##QR Decomposition"
      ],
      "metadata": {
        "id": "vzIOY0AetuC3"
      }
    },
    {
      "cell_type": "code",
      "source": [
        "import numpy as np\n",
        "from numpy.linalg import qr\n",
        "m = np.array([[1/2, -2.8, 5/3], \n",
        "              [2.5, 3, 9],\n",
        "              [8.3, 4, -5.2]])\n",
        "q, r = qr(m)\n",
        "print('Q:', q)\n",
        "print('R:', r)\n",
        "\n",
        "n = np.dot(q, r)\n",
        "print('QR:', n)"
      ],
      "metadata": {
        "colab": {
          "base_uri": "https://localhost:8080/"
        },
        "id": "tggLlHF4CGJi",
        "outputId": "73bf7922-2f96-4b66-8859-fb2d1edf620d"
      },
      "execution_count": 79,
      "outputs": [
        {
          "output_type": "stream",
          "name": "stdout",
          "text": [
            "Q: [[-0.0575855   0.87080492 -0.4882445 ]\n",
            " [-0.28792749 -0.48276155 -0.82706653]\n",
            " [-0.95591928  0.09295198  0.27852874]]\n",
            "R: [[-8.6827415  -4.5262202   2.28345698]\n",
            " [ 0.         -3.51473053 -3.3768627 ]\n",
            " [ 0.          0.         -9.70568907]]\n",
            "QR: [[ 0.5        -2.8         1.66666667]\n",
            " [ 2.5         3.          9.        ]\n",
            " [ 8.3         4.         -5.2       ]]\n"
          ]
        }
      ]
    },
    {
      "cell_type": "markdown",
      "source": [
        "##Least-squares Problems\n"
      ],
      "metadata": {
        "id": "OoGOn6AGtyPA"
      }
    },
    {
      "cell_type": "markdown",
      "source": [
        "Use direct inverse method"
      ],
      "metadata": {
        "id": "zKieKaePDA5V"
      }
    },
    {
      "cell_type": "code",
      "source": [
        "import numpy as np\n",
        "from scipy import optimize\n",
        "import matplotlib.pyplot as plt\n",
        "plt.style.use('seaborn-poster')\n",
        "x = np.linspace(0, 10, 500)\n",
        "y = 1/2 + x * np.random.random(len(x))\n",
        "A = np.vstack([x, np.ones(len(x))]).T\n",
        "y = y[:, np.newaxis]\n",
        "lst_sqr = np.dot((np.dot(np.linalg.inv(np.dot(A.T,A)),A.T)),y)\n",
        "print(lst_sqr)"
      ],
      "metadata": {
        "colab": {
          "base_uri": "https://localhost:8080/"
        },
        "id": "VRYB6hQ1DHym",
        "outputId": "5d0a38c4-6ac3-4eca-c4c9-775fc6474597"
      },
      "execution_count": 80,
      "outputs": [
        {
          "output_type": "stream",
          "name": "stdout",
          "text": [
            "[[0.5248105 ]\n",
            " [0.48146998]]\n"
          ]
        }
      ]
    },
    {
      "cell_type": "markdown",
      "source": [
        "Use the pseudoinverse"
      ],
      "metadata": {
        "id": "V5zeLAuZE2GO"
      }
    },
    {
      "cell_type": "code",
      "source": [
        "pinv = np.linalg.pinv(A)\n",
        "lst_sqr = pinv.dot(y)\n",
        "print(lst_sqr)"
      ],
      "metadata": {
        "colab": {
          "base_uri": "https://localhost:8080/"
        },
        "id": "PIUOaBbiD8fC",
        "outputId": "fe7e519d-b99a-4360-8b8f-f5770caa2f69"
      },
      "execution_count": 81,
      "outputs": [
        {
          "output_type": "stream",
          "name": "stdout",
          "text": [
            "[[0.5248105 ]\n",
            " [0.48146998]]\n"
          ]
        }
      ]
    },
    {
      "cell_type": "markdown",
      "source": [
        "Use numpy.linalg.lstsq"
      ],
      "metadata": {
        "id": "gSRDrRF4GB8O"
      }
    },
    {
      "cell_type": "code",
      "source": [
        "lst_sqr = np.linalg.lstsq(A, y, rcond=None)[0]\n",
        "print(lst_sqr)"
      ],
      "metadata": {
        "colab": {
          "base_uri": "https://localhost:8080/"
        },
        "id": "PYQCcJD8FL76",
        "outputId": "75715e92-d719-4f82-fad3-0fabdd363d0a"
      },
      "execution_count": 82,
      "outputs": [
        {
          "output_type": "stream",
          "name": "stdout",
          "text": [
            "[[0.5248105 ]\n",
            " [0.48146998]]\n"
          ]
        }
      ]
    },
    {
      "cell_type": "markdown",
      "source": [
        "Use optimize.curve_fit from scipy"
      ],
      "metadata": {
        "id": "AWTlyMUCF9bF"
      }
    },
    {
      "cell_type": "code",
      "source": [
        "x = np.linspace(0, 10, 500)\n",
        "y = 1/2 + x * np.random.random(len(x))\n",
        "def func(x, a, b):\n",
        "    y = a*x + b\n",
        "    return y\n",
        "lst_sqr = optimize.curve_fit(func, xdata = x, ydata = y)[0]\n",
        "print(lst_sqr)"
      ],
      "metadata": {
        "colab": {
          "base_uri": "https://localhost:8080/"
        },
        "id": "F88SGNvxFiT5",
        "outputId": "e123a98b-7e42-4878-9f13-64678a74ad85"
      },
      "execution_count": 83,
      "outputs": [
        {
          "output_type": "stream",
          "name": "stdout",
          "text": [
            "[0.55132487 0.30482114]\n"
          ]
        }
      ]
    },
    {
      "cell_type": "markdown",
      "source": [
        "## Linear Regression\n"
      ],
      "metadata": {
        "id": "Sr_eosHEt1J_"
      }
    },
    {
      "cell_type": "code",
      "source": [
        "import numpy as np\n",
        "from sklearn.linear_model import LinearRegression\n",
        "x = np.array([5.3, 15.2, 25.8, 35.4, 45.5, 54.9]).reshape((-1, 1))\n",
        "y = np.array([4.7, 20.4, 31/2, 33.2, 22, 38.6])\n",
        "model = LinearRegression().fit(x, y)\n",
        "r_sq = model.score(x, y)\n",
        "print('coefficient of determination:', r_sq)"
      ],
      "metadata": {
        "colab": {
          "base_uri": "https://localhost:8080/"
        },
        "id": "YR_cZkifJE0M",
        "outputId": "1dfe38c9-0ca3-467e-ff83-66cb1fdb25e0"
      },
      "execution_count": 84,
      "outputs": [
        {
          "output_type": "stream",
          "name": "stdout",
          "text": [
            "coefficient of determination: 0.7007120636613271\n"
          ]
        }
      ]
    },
    {
      "cell_type": "code",
      "source": [
        "print('intercept:', model.intercept_)"
      ],
      "metadata": {
        "colab": {
          "base_uri": "https://localhost:8080/"
        },
        "id": "nDlD5lNkJGEx",
        "outputId": "268885d1-5a88-441e-dd93-f283c7182d1c"
      },
      "execution_count": 85,
      "outputs": [
        {
          "output_type": "stream",
          "name": "stdout",
          "text": [
            "intercept: 5.763991287587402\n"
          ]
        }
      ]
    },
    {
      "cell_type": "code",
      "source": [
        "print('slope:', model.coef_)"
      ],
      "metadata": {
        "colab": {
          "base_uri": "https://localhost:8080/"
        },
        "id": "CrgIWCAaJO6K",
        "outputId": "ddcddd62-7e5e-4e7e-ded8-1c8a7b2d2123"
      },
      "execution_count": 86,
      "outputs": [
        {
          "output_type": "stream",
          "name": "stdout",
          "text": [
            "slope: [0.54813867]\n"
          ]
        }
      ]
    },
    {
      "cell_type": "code",
      "source": [
        "y_pred = model.predict(x)\n",
        "print('predicted response:', y_pred, sep='\\n')"
      ],
      "metadata": {
        "colab": {
          "base_uri": "https://localhost:8080/"
        },
        "id": "XxwcQ-93JlE4",
        "outputId": "1c821918-c343-4927-dd63-1d8652469fc7"
      },
      "execution_count": 87,
      "outputs": [
        {
          "output_type": "stream",
          "name": "stdout",
          "text": [
            "predicted response:\n",
            "[ 8.66912625 14.09569911 19.90596904 25.1681003  30.70430089 35.85680441]\n"
          ]
        }
      ]
    },
    {
      "cell_type": "markdown",
      "source": [
        "#Principal Component Analysis"
      ],
      "metadata": {
        "id": "-wX2BTummTGA"
      }
    },
    {
      "cell_type": "markdown",
      "source": [
        "##Singular Value Decomposition"
      ],
      "metadata": {
        "id": "vac8GQN4uBRP"
      }
    },
    {
      "cell_type": "code",
      "source": [
        "from numpy import array\n",
        "from scipy.linalg import svd\n",
        "\n",
        "A = array([[3, -2, 5], \n",
        "           [1, 0, -3], \n",
        "           [4, 6, -1]])\n",
        "\n",
        "print('Matrix A:')\n",
        "print(A)\n",
        "U, sigma, VT = svd(A)\n",
        "\n",
        "print('The m × m orthogonal matrix:')\n",
        "print(U)\n",
        "\n",
        "print('The m × n diagonal matrix:')\n",
        "print(sigma)\n",
        "\n",
        "print('The n × n orthogonal matrix:')\n",
        "print(VT)"
      ],
      "metadata": {
        "colab": {
          "base_uri": "https://localhost:8080/"
        },
        "id": "rb0tj0_uKKId",
        "outputId": "891c842f-039a-49a6-bfa2-9df42333d23b"
      },
      "execution_count": 88,
      "outputs": [
        {
          "output_type": "stream",
          "name": "stdout",
          "text": [
            "Matrix A:\n",
            "[[ 3 -2  5]\n",
            " [ 1  0 -3]\n",
            " [ 4  6 -1]]\n",
            "The m × m orthogonal matrix:\n",
            "[[-0.38248394  0.86430926  0.32661221]\n",
            " [ 0.23115377 -0.25273925  0.93951626]\n",
            " [ 0.89458033  0.43484753 -0.10311964]]\n",
            "The m × n diagonal matrix:\n",
            "[7.54629306 6.24447219 2.24945061]\n",
            "The n × n orthogonal matrix:\n",
            "[[ 0.35275906  0.81264401 -0.46386502]\n",
            " [ 0.6533104   0.14099937  0.74384454]\n",
            " [ 0.66988548 -0.56544574 -0.48116998]]\n"
          ]
        }
      ]
    },
    {
      "cell_type": "markdown",
      "source": [
        "##Principal Component Analysis"
      ],
      "metadata": {
        "id": "q7pUxKAmuHum"
      }
    },
    {
      "cell_type": "markdown",
      "source": [
        "Covariance Matrix"
      ],
      "metadata": {
        "id": "OPMtOY8UPwHj"
      }
    },
    {
      "cell_type": "code",
      "source": [
        "A = array([[3, -2, 5], \n",
        "           [1, 0, -3], \n",
        "           [4, 6, -1]])\n",
        "covMatrix = np.cov(A,bias=True)\n",
        "print('Covariance matrix of A:')\n",
        "print(covMatrix)"
      ],
      "metadata": {
        "colab": {
          "base_uri": "https://localhost:8080/"
        },
        "id": "TJtVKau7Vzn2",
        "outputId": "da716ad0-aceb-4853-a34a-0d878aca1940"
      },
      "execution_count": 89,
      "outputs": [
        {
          "output_type": "stream",
          "name": "stdout",
          "text": [
            "Covariance matrix of A:\n",
            "[[ 8.66666667 -2.66666667 -7.66666667]\n",
            " [-2.66666667  2.88888889  4.33333333]\n",
            " [-7.66666667  4.33333333  8.66666667]]\n"
          ]
        }
      ]
    },
    {
      "cell_type": "markdown",
      "source": [
        "Principal Component Analysis"
      ],
      "metadata": {
        "id": "j2yOTfQyXLBr"
      }
    },
    {
      "cell_type": "code",
      "source": [
        "import numpy as np\n",
        "from numpy.linalg import eig\n",
        "\n",
        "X = np.random.randint(10,50,100).reshape(20,5) \n",
        "X_meaned = X - np.mean(X , axis = 0)\n",
        "covMatrix = np.cov(X_meaned, rowvar = False)\n",
        "val,vec = eig(covMatrix)\n",
        "\n",
        "s_index = np.argsort(val)[::-1]\n",
        "s_val = val[s_index]\n",
        "s_vec = vec[:,s_index]\n",
        " \n",
        "n_components = 8\n",
        "vec_sub = s_vec[:,0:n_components]\n",
        "\n",
        "#Transform the data \n",
        "X_reduced = np.dot(vec_sub.transpose(), X_meaned.transpose()).transpose()\n",
        "X_reduced"
      ],
      "metadata": {
        "id": "97IBOZEPXOOT",
        "colab": {
          "base_uri": "https://localhost:8080/"
        },
        "outputId": "2b0e5cf4-f8b4-4423-ec01-957e19802ca7"
      },
      "execution_count": 90,
      "outputs": [
        {
          "output_type": "execute_result",
          "data": {
            "text/plain": [
              "array([[-14.2097599 ,  11.1638481 ,   0.28399481,   6.72774374,\n",
              "         -6.5223102 ],\n",
              "       [ 25.06735619,   0.65710691,   6.85236627,  -0.17476694,\n",
              "         -6.8806175 ],\n",
              "       [-21.61411193, -13.0377964 , -12.16006542,   5.05948329,\n",
              "          5.30216639],\n",
              "       [-27.78196313,  -9.86254508,  -6.96332075,   2.28424895,\n",
              "         -1.19146972],\n",
              "       [ -0.22967199,  24.5661952 ,   2.66240043,   2.63708048,\n",
              "          5.03380919],\n",
              "       [ 11.15926987,  17.71804406,   2.51916061,   5.85025062,\n",
              "         -5.6923201 ],\n",
              "       [ 11.5482325 ,  -9.11311102,   9.98129819, -10.96725047,\n",
              "         11.84124727],\n",
              "       [  5.57296606,  -7.13463359, -25.32274739,   2.06609699,\n",
              "         -0.24750938],\n",
              "       [-17.22161772, -11.97678995,  13.20560437, -14.20500239,\n",
              "        -11.55139844],\n",
              "       [-13.62600723,  17.70093422,   8.90913338,   2.01548555,\n",
              "          3.03422397],\n",
              "       [-26.51289728,  -8.97206962,   4.14445894,   7.02884273,\n",
              "         -2.02967354],\n",
              "       [ -4.03180426,  25.35080447, -18.62772438,  -7.32506778,\n",
              "          0.4062433 ],\n",
              "       [ 14.2056229 ,  -6.05889182,  11.24736988,  -5.4258927 ,\n",
              "         -6.71408721],\n",
              "       [ 20.30238914, -14.09296297,  -7.57112907,   6.59989966,\n",
              "         -5.98775578],\n",
              "       [-11.4490343 , -18.98788569,  10.6311743 ,   1.03120515,\n",
              "          6.07676389],\n",
              "       [ 11.12612414,   3.55634731,  19.45836326,  11.10664498,\n",
              "         -1.5839167 ],\n",
              "       [ 27.74171335, -14.62724333, -18.83519665,   1.72806277,\n",
              "          0.85015228],\n",
              "       [ -3.39768961,   8.03689297,  -7.86477459,  -2.56432008,\n",
              "          2.22848377],\n",
              "       [  0.40503237,   6.32555287,  -4.50101459, -16.90395115,\n",
              "          0.59424993],\n",
              "       [ 12.94585082,  -1.21179662,  11.95064838,   3.43120659,\n",
              "         13.03371858]])"
            ]
          },
          "metadata": {},
          "execution_count": 90
        }
      ]
    },
    {
      "cell_type": "markdown",
      "source": [
        "Total Variance"
      ],
      "metadata": {
        "id": "ygFegkIUWEhr"
      }
    },
    {
      "cell_type": "code",
      "source": [
        "B = covMatrix\n",
        "total_var_matr = B.trace()\n",
        "print('Total variance of A:')\n",
        "print(total_var_matr)"
      ],
      "metadata": {
        "id": "-0WYtXbEWFzK",
        "colab": {
          "base_uri": "https://localhost:8080/"
        },
        "outputId": "32398bf3-3e62-4898-c030-d9022ed36bf3"
      },
      "execution_count": 91,
      "outputs": [
        {
          "output_type": "stream",
          "name": "stdout",
          "text": [
            "Total variance of A:\n",
            "716.65\n"
          ]
        }
      ]
    }
  ]
}