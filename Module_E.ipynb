{
  "nbformat": 4,
  "nbformat_minor": 0,
  "metadata": {
    "colab": {
      "name": "Module E.ipynb",
      "provenance": [],
      "collapsed_sections": [],
      "toc_visible": true
    },
    "kernelspec": {
      "name": "python3",
      "display_name": "Python 3"
    },
    "language_info": {
      "name": "python"
    }
  },
  "cells": [
    {
      "cell_type": "markdown",
      "source": [
        "#3.2 Continunity and Differentiation"
      ],
      "metadata": {
        "id": "4DaxWdCnguWv"
      }
    },
    {
      "cell_type": "markdown",
      "source": [
        "##Limits and Continuity"
      ],
      "metadata": {
        "id": "3A1f7vsng8sM"
      }
    },
    {
      "cell_type": "code",
      "source": [
        "from sympy import *\n",
        "x = symbols('x')\n",
        "f = log(x)/x\n",
        "y = limit(f,x,0)\n",
        "print('f(x)=', f)\n",
        "print(y)"
      ],
      "metadata": {
        "colab": {
          "base_uri": "https://localhost:8080/"
        },
        "id": "AzTSogPId6CC",
        "outputId": "9c40b27e-87bd-4700-e415-dd093f006a95"
      },
      "execution_count": 96,
      "outputs": [
        {
          "output_type": "stream",
          "name": "stdout",
          "text": [
            "f(x)= log(x)/x\n",
            "-oo\n"
          ]
        }
      ]
    },
    {
      "cell_type": "code",
      "source": [
        "x = symbols('x')\n",
        "f = (1/x)**2\n",
        "y = limit(f,x,2)\n",
        "print('f(x)=', f)\n",
        "print(y)"
      ],
      "metadata": {
        "colab": {
          "base_uri": "https://localhost:8080/"
        },
        "id": "C3OeMAG2d59k",
        "outputId": "e026f33b-8a53-4d00-b50b-dff2513b8e28"
      },
      "execution_count": 97,
      "outputs": [
        {
          "output_type": "stream",
          "name": "stdout",
          "text": [
            "f(x)= x**(-2)\n",
            "1/4\n"
          ]
        }
      ]
    },
    {
      "cell_type": "code",
      "source": [
        "x = symbols('x')\n",
        "f = (5*x**3 - 2*x**2 + 1)/(-3*x**3 + 4*x +8)\n",
        "y = limit(f,x,0)\n",
        "print('f(x)=', f)\n",
        "print(y)"
      ],
      "metadata": {
        "colab": {
          "base_uri": "https://localhost:8080/"
        },
        "id": "F82ws_q3fOFd",
        "outputId": "15517c1a-884b-4a64-cb3a-2cddde52b0a3"
      },
      "execution_count": 98,
      "outputs": [
        {
          "output_type": "stream",
          "name": "stdout",
          "text": [
            "f(x)= (5*x**3 - 2*x**2 + 1)/(-3*x**3 + 4*x + 8)\n",
            "1/8\n"
          ]
        }
      ]
    },
    {
      "cell_type": "markdown",
      "source": [
        "Derivatives"
      ],
      "metadata": {
        "id": "Ej4jQgdqhAsh"
      }
    },
    {
      "cell_type": "markdown",
      "source": [
        "### Single-Variable Case"
      ],
      "metadata": {
        "id": "e-fZGNxChIx-"
      }
    },
    {
      "cell_type": "code",
      "source": [
        "import sympy as sp\n",
        "x=sp.Symbol('x')\n",
        "f=sp.sin(x)+x**2+sp.exp(4*x)\n",
        "print('f(x) =',f)\n",
        "\n",
        "df=sp.diff(f,x)\n",
        "print('First derivative:', df)\n",
        "\n",
        "ddf=sp.diff(f,x,2)\n",
        "print('Second derivative:',ddf)"
      ],
      "metadata": {
        "colab": {
          "base_uri": "https://localhost:8080/"
        },
        "id": "MV9Bf7cygqGQ",
        "outputId": "e79fd7c7-cad5-4bec-b102-7b37b9a8784e"
      },
      "execution_count": 99,
      "outputs": [
        {
          "output_type": "stream",
          "name": "stdout",
          "text": [
            "f(x) = x**2 + exp(4*x) + sin(x)\n",
            "First derivative: 2*x + 4*exp(4*x) + cos(x)\n",
            "Second derivative: 16*exp(4*x) - sin(x) + 2\n"
          ]
        }
      ]
    },
    {
      "cell_type": "code",
      "source": [
        "x=sp.Symbol('x')\n",
        "f=(5*x**3 + 6*x - 9)/(log(3*x/2))\n",
        "print('f(x) =',f)\n",
        "\n",
        "df=sp.diff(f,x)\n",
        "print('First derivative:', df)\n",
        "\n",
        "ddf=sp.diff(f,x,2)\n",
        "print('Second derivative:', ddf)"
      ],
      "metadata": {
        "colab": {
          "base_uri": "https://localhost:8080/"
        },
        "id": "MKfNevlsh0pM",
        "outputId": "b454dcd7-0702-4ce1-fa7e-5e4d455133de"
      },
      "execution_count": 100,
      "outputs": [
        {
          "output_type": "stream",
          "name": "stdout",
          "text": [
            "f(x) = (5*x**3 + 6*x - 9)/log(3*x/2)\n",
            "First derivative: (15*x**2 + 6)/log(3*x/2) - (5*x**3 + 6*x - 9)/(x*log(3*x/2)**2)\n",
            "Second derivative: (30*x - 6*(5*x**2 + 2)/(x*log(3*x/2)) + (1 + 2/log(3*x/2))*(5*x**3 + 6*x - 9)/(x**2*log(3*x/2)))/log(3*x/2)\n"
          ]
        }
      ]
    },
    {
      "cell_type": "markdown",
      "source": [
        "### General Case"
      ],
      "metadata": {
        "id": "n2rVIHUBhMEK"
      }
    },
    {
      "cell_type": "markdown",
      "source": [
        "Partial Derivative"
      ],
      "metadata": {
        "id": "5fogT1Tukifm"
      }
    },
    {
      "cell_type": "code",
      "source": [
        "import sympy as sym\n",
        "x, y = sym.symbols('x y')\n",
        "f = x**4 + x*y**4\n",
        "partial_df = f.diff(x, y)\n",
        "print('Partial derivative:', partial_df)"
      ],
      "metadata": {
        "colab": {
          "base_uri": "https://localhost:8080/"
        },
        "id": "u4EvoAh5ibVr",
        "outputId": "ec4b952f-e25c-4703-c694-72460ad4d866"
      },
      "execution_count": 101,
      "outputs": [
        {
          "output_type": "stream",
          "name": "stdout",
          "text": [
            "Partial derivative: 4*y**3\n"
          ]
        }
      ]
    },
    {
      "cell_type": "code",
      "source": [
        "from sympy import symbols, cos, diff\n",
        "x, y, z = symbols('x y z', real=True)\n",
        "f = 7*x*y - y*log(z) + z**3 + z**8*y\n",
        "\n",
        "#differntiating function f  respect to a\n",
        "print('Partial derivative wrt x', diff(f, x))\n",
        "print('Partial derivative wrt y', diff(f, y))\n",
        "print('Partial derivative wrt z', diff(f, z))"
      ],
      "metadata": {
        "colab": {
          "base_uri": "https://localhost:8080/"
        },
        "id": "H_GpXDj_kqt_",
        "outputId": "a82f1418-86d0-4c17-afce-0ace7b1e0c46"
      },
      "execution_count": 102,
      "outputs": [
        {
          "output_type": "stream",
          "name": "stdout",
          "text": [
            "Partial derivative wrt x 7*y\n",
            "Partial derivative wrt y 7*x + z**8 - log(z)\n",
            "Partial derivative wrt z 8*y*z**7 - y/z + 3*z**2\n"
          ]
        }
      ]
    },
    {
      "cell_type": "markdown",
      "source": [
        "Jacobian"
      ],
      "metadata": {
        "id": "2uopQYryld-v"
      }
    },
    {
      "cell_type": "code",
      "source": [
        "!pip install symengine"
      ],
      "metadata": {
        "colab": {
          "base_uri": "https://localhost:8080/"
        },
        "id": "F1YcVgsAlhni",
        "outputId": "a71b725b-1305-473a-9f0d-b2df8d96d7c4"
      },
      "execution_count": 103,
      "outputs": [
        {
          "output_type": "stream",
          "name": "stdout",
          "text": [
            "Collecting symengine\n",
            "  Downloading symengine-0.9.0-cp37-cp37m-manylinux2010_x86_64.whl (37.5 MB)\n",
            "\u001b[K     |████████████████████████████████| 37.5 MB 3.0 MB/s \n",
            "\u001b[?25hInstalling collected packages: symengine\n",
            "Successfully installed symengine-0.9.0\n"
          ]
        }
      ]
    },
    {
      "cell_type": "code",
      "source": [
        "import symengine\n",
        "vars = symengine.symbols('x y') \n",
        "f = symengine.sympify(['x**4 + 3*(y**2)*x', '5*y**2 + 2*x*y + 1']) \n",
        "J = symengine.zeros(len(f),len(vars)) \n",
        "for i, fi in enumerate(f):\n",
        "  for j, s in enumerate(vars):\n",
        "    J[i,j] = symengine.diff(fi, s)\n",
        "print(J)"
      ],
      "metadata": {
        "colab": {
          "base_uri": "https://localhost:8080/"
        },
        "id": "l49WJbcDVSR2",
        "outputId": "8d1a3090-1487-4739-cd56-95b3a0bfeef8"
      },
      "execution_count": 104,
      "outputs": [
        {
          "output_type": "stream",
          "name": "stdout",
          "text": [
            "[4*x**3 + 3*y**2, 6*x*y]\n",
            "[2*y, 2*x + 10*y]\n",
            "\n"
          ]
        }
      ]
    },
    {
      "cell_type": "code",
      "source": [
        "print(symengine.Matrix.det(J))"
      ],
      "metadata": {
        "colab": {
          "base_uri": "https://localhost:8080/"
        },
        "id": "PCzpHK3fqGHd",
        "outputId": "9bfd18d6-40f6-4f9c-fbdb-b4094a562eac"
      },
      "execution_count": 105,
      "outputs": [
        {
          "output_type": "stream",
          "name": "stdout",
          "text": [
            "-12*x*y**2 + (4*x**3 + 3*y**2)*(2*x + 10*y)\n"
          ]
        }
      ]
    },
    {
      "cell_type": "code",
      "source": [
        "import symengine\n",
        "vars = symengine.symbols('x y z') \n",
        "f = symengine.sympify(['z*tan(x**2 - y**2)', 'x*y*ln(z/2)']) \n",
        "J = symengine.zeros(len(f),len(vars)) \n",
        "for i, fi in enumerate(f):\n",
        "  for j, s in enumerate(vars):\n",
        "    J[i,j] = symengine.diff(fi, s)\n",
        "print(J)"
      ],
      "metadata": {
        "colab": {
          "base_uri": "https://localhost:8080/"
        },
        "id": "474OH7FPXLpE",
        "outputId": "f66cda37-70b8-4c87-ea0f-e7149e6d24d9"
      },
      "execution_count": 106,
      "outputs": [
        {
          "output_type": "stream",
          "name": "stdout",
          "text": [
            "[2*x*z*(1 + tan(-x**2 + y**2)**2), -2*y*z*(1 + tan(-x**2 + y**2)**2), -tan(-x**2 + y**2)]\n",
            "[y*log((1/2)*z), x*log((1/2)*z), x*y/z]\n",
            "\n"
          ]
        }
      ]
    },
    {
      "cell_type": "markdown",
      "source": [
        "Chain Rule"
      ],
      "metadata": {
        "id": "qKqqshGrZH_I"
      }
    },
    {
      "cell_type": "code",
      "source": [
        "import sympy as sym\n",
        "x = sym.symbols('x')\n",
        "sym.diff((x**2 - 3*x + 5)**3)"
      ],
      "metadata": {
        "colab": {
          "base_uri": "https://localhost:8080/",
          "height": 41
        },
        "id": "CjJzH8IgZJN8",
        "outputId": "7c28ae22-4ad3-4a69-d5da-fdca550c6bcb"
      },
      "execution_count": 107,
      "outputs": [
        {
          "output_type": "execute_result",
          "data": {
            "text/latex": "$\\displaystyle \\left(6 x - 9\\right) \\left(x^{2} - 3 x + 5\\right)^{2}$",
            "text/plain": [
              "(6*x - 9)*(x**2 - 3*x + 5)**2"
            ]
          },
          "metadata": {},
          "execution_count": 107
        }
      ]
    },
    {
      "cell_type": "markdown",
      "source": [
        "Directional Derivative"
      ],
      "metadata": {
        "id": "Ns5c1ZcuaNVD"
      }
    },
    {
      "cell_type": "code",
      "source": [
        "!pip install numdifftools"
      ],
      "metadata": {
        "colab": {
          "base_uri": "https://localhost:8080/"
        },
        "id": "VhC2O7GPdNSy",
        "outputId": "5003aa74-22b3-4db3-f643-c395cc6ed846"
      },
      "execution_count": 108,
      "outputs": [
        {
          "output_type": "stream",
          "name": "stdout",
          "text": [
            "Collecting numdifftools\n",
            "  Downloading numdifftools-0.9.40-py2.py3-none-any.whl (99 kB)\n",
            "\u001b[K     |████████████████████████████████| 99 kB 3.5 MB/s \n",
            "\u001b[?25hRequirement already satisfied: scipy>=0.8 in /usr/local/lib/python3.7/dist-packages (from numdifftools) (1.4.1)\n",
            "Requirement already satisfied: numpy>=1.9 in /usr/local/lib/python3.7/dist-packages (from numdifftools) (1.21.5)\n",
            "Collecting algopy>=0.4\n",
            "  Downloading algopy-0.5.7.zip (189 kB)\n",
            "\u001b[K     |████████████████████████████████| 189 kB 34.2 MB/s \n",
            "\u001b[?25hRequirement already satisfied: statsmodels>=0.6 in /usr/local/lib/python3.7/dist-packages (from numdifftools) (0.10.2)\n",
            "Requirement already satisfied: pandas>=0.19 in /usr/local/lib/python3.7/dist-packages (from statsmodels>=0.6->numdifftools) (1.3.5)\n",
            "Requirement already satisfied: patsy>=0.4.0 in /usr/local/lib/python3.7/dist-packages (from statsmodels>=0.6->numdifftools) (0.5.2)\n",
            "Requirement already satisfied: pytz>=2017.3 in /usr/local/lib/python3.7/dist-packages (from pandas>=0.19->statsmodels>=0.6->numdifftools) (2018.9)\n",
            "Requirement already satisfied: python-dateutil>=2.7.3 in /usr/local/lib/python3.7/dist-packages (from pandas>=0.19->statsmodels>=0.6->numdifftools) (2.8.2)\n",
            "Requirement already satisfied: six in /usr/local/lib/python3.7/dist-packages (from patsy>=0.4.0->statsmodels>=0.6->numdifftools) (1.15.0)\n",
            "Building wheels for collected packages: algopy\n",
            "  Building wheel for algopy (setup.py) ... \u001b[?25l\u001b[?25hdone\n",
            "  Created wheel for algopy: filename=algopy-0.5.7-py3-none-any.whl size=107608 sha256=2fd27c631bb35cb9dc8a0a0cc8393797fd89190b72ffab52e9e6a709d0bb900a\n",
            "  Stored in directory: /root/.cache/pip/wheels/a8/fd/06/21dc6aba9f680fdbde386c06b1a8a1cf3d9a5f6bd96e31dcd4\n",
            "Successfully built algopy\n",
            "Installing collected packages: algopy, numdifftools\n",
            "Successfully installed algopy-0.5.7 numdifftools-0.9.40\n"
          ]
        }
      ]
    },
    {
      "cell_type": "code",
      "source": [
        "import numpy as np\n",
        "import numdifftools as nd\n",
        "vec = np.r_[1, 2]\n",
        "f = lambda x: (5*x**3 + 6*x - 9)/(3*x**3/2)\n",
        "re, info = nd.directionaldiff(f, [2, -3], vec, full_output=True)\n",
        "print('The directional derivative of f at point (2,-3) in the direction vector (1,2) is', re)"
      ],
      "metadata": {
        "colab": {
          "base_uri": "https://localhost:8080/"
        },
        "id": "kpx8RDKlaY1D",
        "outputId": "6ac2041a-57fb-48a4-ed1f-e7d91a4cd86d"
      },
      "execution_count": 109,
      "outputs": [
        {
          "output_type": "stream",
          "name": "stdout",
          "text": [
            "The directional derivative of f at point (2,-3) in the direction vector (1,2) is [0.0559017  0.46377706]\n"
          ]
        }
      ]
    },
    {
      "cell_type": "code",
      "source": [
        "print(info)"
      ],
      "metadata": {
        "colab": {
          "base_uri": "https://localhost:8080/"
        },
        "id": "qHGteJvJcvdk",
        "outputId": "edd8d4f9-ae30-4ed8-b0b6-fb4dff335031"
      },
      "execution_count": 110,
      "outputs": [
        {
          "output_type": "stream",
          "name": "stdout",
          "text": [
            "info(f_value=array([3.58333333, 4.        ]), error_estimate=array([2.07216189e-13, 4.87776486e-13]), final_step=array([0.0078125, 0.0078125]), index=array([12, 13]))\n"
          ]
        }
      ]
    },
    {
      "cell_type": "markdown",
      "source": [
        "Hessian"
      ],
      "metadata": {
        "id": "qKapTLj_eX1x"
      }
    },
    {
      "cell_type": "code",
      "source": [
        "import numdifftools.nd_algopy as nda\n",
        "f = lambda x: (5*x[0]**3 + 6*x[1] - 9)/(3*x[0]**3/2)\n",
        "hess_f = nda.Hessian(f)\n",
        "hess = hess_f([1,1]) #minimize at (1,1)\n",
        "hess"
      ],
      "metadata": {
        "colab": {
          "base_uri": "https://localhost:8080/"
        },
        "id": "q6xt4QYFec1m",
        "outputId": "90d2c17c-ffe0-4dbd-a8ee-5e2ada9db3b8"
      },
      "execution_count": 111,
      "outputs": [
        {
          "output_type": "execute_result",
          "data": {
            "text/plain": [
              "array([[-24., -12.],\n",
              "       [-12.,   0.]])"
            ]
          },
          "metadata": {},
          "execution_count": 111
        }
      ]
    },
    {
      "cell_type": "markdown",
      "source": [
        "##Taylor’s Theorem"
      ],
      "metadata": {
        "id": "RngOC4hJhkgC"
      }
    },
    {
      "cell_type": "code",
      "source": [
        "import math\n",
        "def tay_series_in_x(n):\n",
        "    x = math.pi/4\n",
        "    tay_se = 0\n",
        "    for i in range(n):\n",
        "        tay_se += ((-1)**n * (x)**(2*n+1)) / np.math.factorial(2*n+1)\n",
        "    return tay_se"
      ],
      "metadata": {
        "id": "65RCCUp8YAos"
      },
      "execution_count": 112,
      "outputs": []
    },
    {
      "cell_type": "code",
      "source": [
        "tay_series_in_x(4)"
      ],
      "metadata": {
        "colab": {
          "base_uri": "https://localhost:8080/"
        },
        "id": "v9MuBssIlvJe",
        "outputId": "c7d828c3-b064-42b7-e172-a8644e7b0834"
      },
      "execution_count": 113,
      "outputs": [
        {
          "output_type": "execute_result",
          "data": {
            "text/plain": [
              "1.253446756151248e-06"
            ]
          },
          "metadata": {},
          "execution_count": 113
        }
      ]
    },
    {
      "cell_type": "markdown",
      "source": [
        "#3.3 Unconstrained Optimization"
      ],
      "metadata": {
        "id": "LTEi_qZwhpjz"
      }
    },
    {
      "cell_type": "markdown",
      "source": [
        "##Necessary and Sufficent Conditions of Local Minimizers"
      ],
      "metadata": {
        "id": "e6hbubcFhvMJ"
      }
    },
    {
      "cell_type": "markdown",
      "source": [
        "Local Minimizer"
      ],
      "metadata": {
        "id": "kG4cjeKIzA1p"
      }
    },
    {
      "cell_type": "code",
      "source": [
        "from scipy.optimize import minimize\n",
        "f = lambda x: (5*x[0]**3 + 6*x[0]**2 + x[0] - 9)\n",
        "x0 = [1, 2.1, 4]\n",
        "loc_min = minimize(f, x0, method='Nelder-Mead')\n",
        "loc_min"
      ],
      "metadata": {
        "colab": {
          "base_uri": "https://localhost:8080/"
        },
        "id": "znkS2zeozOKx",
        "outputId": "9ffc26a4-7dc7-4b3f-a576-729dfc849109"
      },
      "execution_count": 114,
      "outputs": [
        {
          "output_type": "execute_result",
          "data": {
            "text/plain": [
              " final_simplex: (array([[-0.0945155 ,  2.75647652,  4.90846093],\n",
              "       [-0.0944733 ,  2.75646613,  4.90839586],\n",
              "       [-0.09452481,  2.75649113,  4.90847296],\n",
              "       [-0.0944599 ,  2.75644522,  4.908496  ]]), array([-9.04513804, -9.04513804, -9.04513804, -9.04513804]))\n",
              "           fun: -9.045138041306283\n",
              "       message: 'Optimization terminated successfully.'\n",
              "          nfev: 96\n",
              "           nit: 49\n",
              "        status: 0\n",
              "       success: True\n",
              "             x: array([-0.0945155 ,  2.75647652,  4.90846093])"
            ]
          },
          "metadata": {},
          "execution_count": 114
        }
      ]
    },
    {
      "cell_type": "markdown",
      "source": [
        "Global Minimizer"
      ],
      "metadata": {
        "id": "6dteXYBOzKgP"
      }
    },
    {
      "cell_type": "code",
      "source": [
        "from scipy.optimize import basinhopping\n",
        "f = lambda x: (5*x[0]**3 + 6*x[0]**2 + x[0] - 9)\n",
        "x0 = [1]\n",
        "glo_min = basinhopping(f, x0)\n",
        "glo_min"
      ],
      "metadata": {
        "colab": {
          "base_uri": "https://localhost:8080/"
        },
        "id": "be1muIHw2ff3",
        "outputId": "da95c942-4915-4701-f855-e3f2a776f46d"
      },
      "execution_count": 115,
      "outputs": [
        {
          "output_type": "execute_result",
          "data": {
            "text/plain": [
              "                        fun: -1.6849058174187942e+26\n",
              " lowest_optimization_result:       fun: -1.6849058174187942e+26\n",
              " hess_inv: array([[1]])\n",
              "      jac: array([0.])\n",
              "  message: 'Optimization terminated successfully.'\n",
              "     nfev: 3\n",
              "      nit: 0\n",
              "     njev: 1\n",
              "   status: 0\n",
              "  success: True\n",
              "        x: array([-3.22999519e+08])\n",
              "                    message: ['requested number of basinhopping iterations completed successfully']\n",
              "      minimization_failures: 0\n",
              "                       nfev: 375\n",
              "                        nit: 100\n",
              "                       njev: 125\n",
              "                          x: array([-3.22999519e+08])"
            ]
          },
          "metadata": {},
          "execution_count": 115
        }
      ]
    },
    {
      "cell_type": "markdown",
      "source": [
        "##Convexity and Global Minimizers"
      ],
      "metadata": {
        "id": "1g7uc0Lwh2y-"
      }
    },
    {
      "cell_type": "markdown",
      "source": [
        "###Global Minimizers of Convex Functions"
      ],
      "metadata": {
        "id": "9dMwdRc9iOS-"
      }
    },
    {
      "cell_type": "code",
      "source": [
        "from scipy.optimize import minimize\n",
        "from numpy.random import rand\n",
        "import sympy as sp\n",
        "def func(x):\n",
        "\treturn sp.sin(x[0])+x[1]**2\n",
        "def derivative(x):\n",
        "\treturn np.array([np.cos(x[0]), 2*x[1]])\n",
        "a, b = -3,3\n",
        "pt = a + rand(2) * a - (b + 1/2)\n",
        "result = minimize(func, pt, method='BFGS', jac=derivative)\n",
        "result"
      ],
      "metadata": {
        "colab": {
          "base_uri": "https://localhost:8080/"
        },
        "id": "3-zhZxcfEw8a",
        "outputId": "7ea3ca95-8391-4bd3-ef75-60909de3d109"
      },
      "execution_count": 116,
      "outputs": [
        {
          "output_type": "execute_result",
          "data": {
            "text/plain": [
              "      fun: -0.9999999999999819\n",
              " hess_inv: array([[1.00139636e+00, 5.28874735e-06],\n",
              "       [5.28874735e-06, 4.99776051e-01]])\n",
              "      jac: array([-1.18120478e-07, -2.11052302e-07])\n",
              "  message: 'Optimization terminated successfully.'\n",
              "     nfev: 6\n",
              "      nit: 5\n",
              "     njev: 6\n",
              "   status: 0\n",
              "  success: True\n",
              "        x: array([-7.85398175e+00, -1.05526151e-07])"
            ]
          },
          "metadata": {},
          "execution_count": 116
        }
      ]
    },
    {
      "cell_type": "code",
      "source": [
        "print('Status : %s' % result['message'])\n",
        "print('Total Evaluations: %d' % result['nfev'])\n",
        "solution = result['x']\n",
        "evaluation = func(solution)\n",
        "print('Solution: f(%s) = %.5f' % (solution, evaluation))"
      ],
      "metadata": {
        "colab": {
          "base_uri": "https://localhost:8080/"
        },
        "id": "vvddUIpxFl3Q",
        "outputId": "1a59b995-9d3a-4980-c6f3-91a24f7ca303"
      },
      "execution_count": 117,
      "outputs": [
        {
          "output_type": "stream",
          "name": "stdout",
          "text": [
            "Status : Optimization terminated successfully.\n",
            "Total Evaluations: 6\n",
            "Solution: f([-7.85398175e+00 -1.05526151e-07]) = -1.00000\n"
          ]
        }
      ]
    },
    {
      "cell_type": "code",
      "source": [
        "def func(x):\n",
        "\treturn sp.sin(x[0])+x[0]**2\n",
        "def derivative(x):\n",
        "\treturn np.array([np.cos(x[0]), 2*x[0]])\n",
        "x0=rand(2)\n",
        "result = minimize(func, x0, method='Newton-CG', jac=derivative)\n",
        "result"
      ],
      "metadata": {
        "colab": {
          "base_uri": "https://localhost:8080/"
        },
        "id": "C7-QkOtnGKJZ",
        "outputId": "547754fc-f14f-4f6e-ce20-869b58e22a7f"
      },
      "execution_count": 118,
      "outputs": [
        {
          "output_type": "execute_result",
          "data": {
            "text/plain": [
              "     fun: 1.80937198308175\n",
              "     jac: None\n",
              " message: \"Warning: CG iterations didn't converge.  The Hessian is not positive definite.\"\n",
              "    nfev: 1\n",
              "    nhev: 0\n",
              "     nit: 0\n",
              "    njev: 81\n",
              "  status: 3\n",
              " success: False\n",
              "       x: array([0.98732741, 0.73207205])"
            ]
          },
          "metadata": {},
          "execution_count": 118
        }
      ]
    },
    {
      "cell_type": "code",
      "source": [
        "print('Status : %s' % result['message'])\n",
        "print('Total Evaluations: %d' % result['nfev'])\n",
        "solution = result['x']\n",
        "evaluation = func(solution)\n",
        "print('Solution: f(%s) = %.5f' % (solution, evaluation))"
      ],
      "metadata": {
        "colab": {
          "base_uri": "https://localhost:8080/"
        },
        "id": "Vwxkj8EpHiDb",
        "outputId": "fe9e20dd-2abd-4956-da09-c036ea83e7d3"
      },
      "execution_count": 119,
      "outputs": [
        {
          "output_type": "stream",
          "name": "stdout",
          "text": [
            "Status : Warning: CG iterations didn't converge.  The Hessian is not positive definite.\n",
            "Total Evaluations: 1\n",
            "Solution: f([0.98732741 0.73207205]) = 1.80937\n"
          ]
        }
      ]
    }
  ]
}