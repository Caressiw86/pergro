{
  "nbformat": 4,
  "nbformat_minor": 0,
  "metadata": {
    "colab": {
      "name": "Module A.ipynb",
      "provenance": [],
      "collapsed_sections": [],
      "toc_visible": true
    },
    "kernelspec": {
      "name": "python3",
      "display_name": "Python 3"
    },
    "language_info": {
      "name": "python"
    }
  },
  "cells": [
    {
      "cell_type": "markdown",
      "source": [
        "#Section 9.1: Base-N and Binary\n"
      ],
      "metadata": {
        "id": "jPDJUmoHLcWP"
      }
    },
    {
      "cell_type": "markdown",
      "source": [
        "Base10 is based on 10 digits from 0 to 9. Similarly, base n is based on n digits from 0 to n-1.\n",
        "Base2 is special because it is based on 2 digits 0 and 1, which is why it is called binary number. \n"
      ],
      "metadata": {
        "id": "iFy2-tMxMMYo"
      }
    },
    {
      "cell_type": "markdown",
      "source": [
        "##covert a binary to decimal"
      ],
      "metadata": {
        "id": "NgLTunw0WkTU"
      }
    },
    {
      "cell_type": "code",
      "source": [
        "def my_bin_2_dec(b):\n",
        "    d = 0\n",
        "    for i in range(len(b)):\n",
        "      dig = b.pop(-1)\n",
        "      if dig == 1:\n",
        "        d = d + pow(2, i)\n",
        "    return d"
      ],
      "metadata": {
        "id": "IeDPKo7rLfKz"
      },
      "execution_count": null,
      "outputs": []
    },
    {
      "cell_type": "code",
      "source": [
        "my_bin_2_dec([1,1,1])"
      ],
      "metadata": {
        "id": "cJ_-IivHDm1f"
      },
      "execution_count": null,
      "outputs": []
    },
    {
      "cell_type": "code",
      "source": [
        "my_bin_2_dec([1, 0, 1, 0, 1, 0, 1])"
      ],
      "metadata": {
        "id": "x2xcGt88Eaiq"
      },
      "execution_count": null,
      "outputs": []
    },
    {
      "cell_type": "code",
      "source": [
        "my_bin_2_dec([1]*25)"
      ],
      "metadata": {
        "id": "diI24rNYEaXZ"
      },
      "execution_count": null,
      "outputs": []
    },
    {
      "cell_type": "markdown",
      "source": [
        "##convert a decimal to binary"
      ],
      "metadata": {
        "id": "_jCRv1NfWvKt"
      }
    },
    {
      "cell_type": "code",
      "source": [
        "def my_dec_2_bin(d):\n",
        "  b = 0\n",
        "  position = 1\n",
        "  if d == 0:\n",
        "    return [0]\n",
        "  while d > 0:\n",
        "    b = b + ((d % 2) * position)\n",
        "    position = position * 10\n",
        "    d = d // 2\n",
        "  b = list(map(int, str(b)))\n",
        "  return b"
      ],
      "metadata": {
        "id": "pxTzpHyOP2cN"
      },
      "execution_count": null,
      "outputs": []
    },
    {
      "cell_type": "code",
      "source": [
        "my_dec_2_bin(9)"
      ],
      "metadata": {
        "id": "1aD7ggOGMwDS"
      },
      "execution_count": null,
      "outputs": []
    },
    {
      "cell_type": "code",
      "source": [
        "my_dec_2_bin(0)"
      ],
      "metadata": {
        "id": "qjjloY8cRZ5O"
      },
      "execution_count": null,
      "outputs": []
    },
    {
      "cell_type": "code",
      "source": [
        "my_dec_2_bin(2097)"
      ],
      "metadata": {
        "id": "cY_cH3NVSNuh"
      },
      "execution_count": null,
      "outputs": []
    },
    {
      "cell_type": "code",
      "source": [
        "my_dec_2_bin(12654)"
      ],
      "metadata": {
        "id": "zlawF3dOTlli"
      },
      "execution_count": null,
      "outputs": []
    },
    {
      "cell_type": "code",
      "source": [
        "my_bin_2_dec(my_dec_2_bin(12654))"
      ],
      "metadata": {
        "id": "QuWhMaQPUARg"
      },
      "execution_count": null,
      "outputs": []
    },
    {
      "cell_type": "markdown",
      "source": [
        "##add two binary numbers"
      ],
      "metadata": {
        "id": "LYKTxA9hXAAT"
      }
    },
    {
      "cell_type": "code",
      "source": [
        "def my_bin_adder(b1, b2):\n",
        "    b1 = ''.join(map(str, b1))\n",
        "    b2 = ''.join(map(str, b2))\n",
        "    length = max(len(b1), len(b2))\n",
        "    b1 = b1.zfill(length)\n",
        "    b2 = b2.zfill(length)\n",
        "    b = ''\n",
        "    carry = 0\n",
        "    for i in range(length - 1, -1, -1):\n",
        "\n",
        "        if carry == 0:\n",
        "          if b1[i] == '1' and b2[i] == '1':\n",
        "            b = '0' + b\n",
        "            carry = 1\n",
        "          if b1[i] == '0' and b2[i] == '0':\n",
        "            b = '0' + b\n",
        "            carry = 0\n",
        "          if b1[i] == '0' and b2[i] == '1':\n",
        "            b = '1' + b \n",
        "            carry = 0\n",
        "          if b1[i] == '1' and b2[i] == '0':\n",
        "            b = '1' + b \n",
        "            carry = 0\n",
        "\n",
        "\n",
        "        else:\n",
        "          if b1[i] == '1' and b2[i] == '1':\n",
        "            b = '1' + b\n",
        "            carry = 1\n",
        "          if b1[i] == '1' and b2[i] == '0':\n",
        "            b = '0' + b \n",
        "            carry = 1\n",
        "          if b1[i] == '0' and b2[i] == '0':\n",
        "            b = '1' + b\n",
        "            carry = 0\n",
        "          if b1[i] == '0' and b2[i] == '1':\n",
        "            b = '0' + b \n",
        "            carry = 1\n",
        "      \n",
        "    if carry == 1:\n",
        "      b = '1' + b\n",
        "\n",
        "    b = list(map(int, str(b)))\n",
        "    return b"
      ],
      "metadata": {
        "id": "01ES77spUGWp"
      },
      "execution_count": null,
      "outputs": []
    },
    {
      "cell_type": "code",
      "source": [
        "my_bin_adder([1, 1, 1, 1, 1], [1])"
      ],
      "metadata": {
        "id": "ZZ0GW7ZpVSX0"
      },
      "execution_count": null,
      "outputs": []
    },
    {
      "cell_type": "code",
      "source": [
        "my_bin_adder([1, 1, 1, 1, 1], [1, 0, 1, 0, 1, 0, 0])"
      ],
      "metadata": {
        "id": "PRpDk07EVSQ1"
      },
      "execution_count": null,
      "outputs": []
    },
    {
      "cell_type": "code",
      "source": [
        "my_bin_adder([1, 1, 0], [1, 0, 1])"
      ],
      "metadata": {
        "id": "A7GQL-uUXH3G"
      },
      "execution_count": null,
      "outputs": []
    },
    {
      "cell_type": "markdown",
      "source": [
        "#Section 9.2: Floating Point Numbers\n"
      ],
      "metadata": {
        "id": "Uw2jIphCMyB-"
      }
    },
    {
      "cell_type": "markdown",
      "source": [
        "Floats allocate bits to three different parts: the sign indicator, s, which says whether a number is positive or negative; characteristic or exponent, e, which is the power of 2; and the fraction, f, which is the coefficient of the exponent. "
      ],
      "metadata": {
        "id": "MQd4ER7QNzwM"
      }
    },
    {
      "cell_type": "markdown",
      "source": [
        "1 bit is allocated to the sign indicator, 11 bits are allocated to the exponent, and 52 bits are allocated to the fraction. "
      ],
      "metadata": {
        "id": "YK_Lz8ipgbmc"
      }
    },
    {
      "cell_type": "markdown",
      "source": [
        "##convert a 64-bit IEEE754 to decimal"
      ],
      "metadata": {
        "id": "uH59TjDO04Q-"
      }
    },
    {
      "cell_type": "code",
      "source": [
        "import numpy as np\n",
        "from decimal import Decimal\n",
        "\n",
        "def my_ieee_2_dec(ieee):\n",
        "\n",
        "    d = 0\n",
        "    ex = 0\n",
        "    frac = 0\n",
        "\n",
        "    if int(ieee[0]) == 1:\n",
        "      sign = -1\n",
        "    else:\n",
        "      sign = 1\n",
        "\n",
        "    for i in range(1,11):\n",
        "      if int(ieee[i]) == 1:\n",
        "        ex = ex + pow(2, 11-i)\n",
        "    ex = ex - 1023\n",
        "\n",
        "    for j in range(12,63):\n",
        "      if int(ieee[j]) == 1:\n",
        "        frac = frac + 1/(pow(2, j-11))\n",
        "\n",
        "    d = sign * pow(2,ex) * (1 + frac)\n",
        "    d = Decimal(d)\n",
        "    \n",
        "    return d\n",
        "# I wrote this fuction in a manual way and it is not quite precise. \n",
        "# I have not found the error. "
      ],
      "metadata": {
        "id": "3bTwq_LTwTTr"
      },
      "execution_count": null,
      "outputs": []
    },
    {
      "cell_type": "code",
      "source": [
        "ieee = '1100000001001000000000000000000000000000000000000000000000000000'\n",
        "my_ieee_2_dec(ieee)"
      ],
      "metadata": {
        "id": "rVibwSkrkFPL"
      },
      "execution_count": null,
      "outputs": []
    },
    {
      "cell_type": "code",
      "source": [
        "ieee = '0100000000001011001100110011001100110011001100110011001100110011'\n",
        "my_ieee_2_dec(ieee)"
      ],
      "metadata": {
        "id": "mYbIewxoAOSW"
      },
      "execution_count": null,
      "outputs": []
    },
    {
      "cell_type": "code",
      "source": [
        "# I'm using more advanced module and fuction in Python\n",
        "import struct\n",
        "def my_ieee_3_dec(ieee):\n",
        "\n",
        "    base2 = int(ieee, 2)    \n",
        "\n",
        "    byte_obj = struct.pack('q', base2)\n",
        "\n",
        "    d = struct.unpack('d', byte_obj)\n",
        "\n",
        "    d = Decimal(d[0])\n",
        "    return d"
      ],
      "metadata": {
        "id": "bQ3-olQmpPNf"
      },
      "execution_count": null,
      "outputs": []
    },
    {
      "cell_type": "code",
      "source": [
        "my_ieee_3_dec('0100000000001011001100110011001100110011001100110011001100110011')"
      ],
      "metadata": {
        "id": "56ncRYmC2iKo"
      },
      "execution_count": null,
      "outputs": []
    },
    {
      "cell_type": "code",
      "source": [
        "ieee = '1100000001001000000000000000000000000000000000000000000000000000'\n",
        "my_ieee_2_dec(ieee)"
      ],
      "metadata": {
        "id": "tCja-Fc17nj0"
      },
      "execution_count": null,
      "outputs": []
    },
    {
      "cell_type": "markdown",
      "source": [
        "##convert decimal to 64-bit IEEE754"
      ],
      "metadata": {
        "id": "YWsfw7N19eUn"
      }
    },
    {
      "cell_type": "code",
      "source": [
        "def my_dec_2_ieee(d):\n",
        "\n",
        "    byte_obj = struct.pack('d', d)\n",
        "\n",
        "    base2 = struct.unpack('Q', byte_obj)\n",
        "\n",
        "    base2 = base2[0]\n",
        "\n",
        "    if base2 > 0: \n",
        "      ieee = str(bin(base2))\n",
        "      ieee = ieee[2:]\n",
        "    else:\n",
        "      ieee = str(bin(base2))\n",
        "      ieee = ieee[3:]\n",
        "\n",
        "    return ieee"
      ],
      "metadata": {
        "id": "pHCK5rwI9j95"
      },
      "execution_count": null,
      "outputs": []
    },
    {
      "cell_type": "code",
      "source": [
        "d = 15.0\n",
        "my_dec_2_ieee(d)"
      ],
      "metadata": {
        "id": "etNRqEmFqpol"
      },
      "execution_count": null,
      "outputs": []
    },
    {
      "cell_type": "code",
      "source": [
        "d = -309.141740\n",
        "my_dec_2_ieee(d)"
      ],
      "metadata": {
        "id": "itHnpytK-XEO"
      },
      "execution_count": null,
      "outputs": []
    },
    {
      "cell_type": "code",
      "source": [
        " 1100000001110011010100100100010010010001001010011000100010010000"
      ],
      "metadata": {
        "id": "gNRNkohTFXdW"
      },
      "execution_count": null,
      "outputs": []
    },
    {
      "cell_type": "code",
      "source": [
        "d = -25252\n",
        "my_dec_2_ieee(d)"
      ],
      "metadata": {
        "id": "Tsf8Vzdd-Zbv"
      },
      "execution_count": null,
      "outputs": []
    },
    {
      "cell_type": "code",
      "source": [
        " 1100000011011000101010010000000000000000000000000000000000000000"
      ],
      "metadata": {
        "id": "t2nDjV1qFzo_"
      },
      "execution_count": null,
      "outputs": []
    },
    {
      "cell_type": "markdown",
      "source": [
        "#Section 9.3: Round-off Errors"
      ],
      "metadata": {
        "id": "texysD2MP5wV"
      }
    },
    {
      "cell_type": "markdown",
      "source": [
        "The floating point numbers can not be stored with perfect precision, instead the numbers are approximated by finite number of bytes. Therefore, the difference between an approximation of a number used in computation and its correct (true) value is called round-off error. "
      ],
      "metadata": {
        "id": "QM9M-KcWQEG5"
      }
    },
    {
      "cell_type": "markdown",
      "source": [
        "##Representation error"
      ],
      "metadata": {
        "id": "EhVlfqPVW9mG"
      }
    },
    {
      "cell_type": "code",
      "source": [
        "float(0.3)"
      ],
      "metadata": {
        "id": "USyTIGE9XhAe"
      },
      "execution_count": null,
      "outputs": []
    },
    {
      "cell_type": "code",
      "source": [
        "format(0.3, '.29f')"
      ],
      "metadata": {
        "id": "SFm4MiWOXg0v"
      },
      "execution_count": null,
      "outputs": []
    },
    {
      "cell_type": "code",
      "source": [
        "import math\n",
        "\n",
        "float(math.pi)"
      ],
      "metadata": {
        "id": "vghrJ6XLX9GF"
      },
      "execution_count": null,
      "outputs": []
    },
    {
      "cell_type": "code",
      "source": [
        "format(math.pi, '.29f')"
      ],
      "metadata": {
        "id": "IECthUHbYK-y"
      },
      "execution_count": null,
      "outputs": []
    },
    {
      "cell_type": "markdown",
      "source": [
        "##Round-off error by floating-point arithmetic"
      ],
      "metadata": {
        "id": "SJKj35tEXKs3"
      }
    },
    {
      "cell_type": "code",
      "source": [
        "n = 3.7471\n",
        "r = round(n,1)\n",
        "print(r)"
      ],
      "metadata": {
        "id": "WkMTcAh3Ykjq"
      },
      "execution_count": null,
      "outputs": []
    },
    {
      "cell_type": "code",
      "source": [
        "r1 = round(n,3)\n",
        "print(r1)"
      ],
      "metadata": {
        "id": "X3_64s-oYkcu"
      },
      "execution_count": null,
      "outputs": []
    },
    {
      "cell_type": "code",
      "source": [
        "r2 = round(r1,2)\n",
        "print(r2)"
      ],
      "metadata": {
        "id": "C3s5TkzbYkIi"
      },
      "execution_count": null,
      "outputs": []
    },
    {
      "cell_type": "code",
      "source": [
        "r3 = round(r2,1)\n",
        "print(r3)"
      ],
      "metadata": {
        "id": "Fhxr5QvYZoEb"
      },
      "execution_count": null,
      "outputs": []
    },
    {
      "cell_type": "code",
      "source": [
        "err = r - n\n",
        "print(err)"
      ],
      "metadata": {
        "id": "YrGk0FZub9he"
      },
      "execution_count": null,
      "outputs": []
    },
    {
      "cell_type": "code",
      "source": [
        "err1 = r3 - n\n",
        "print(err1)"
      ],
      "metadata": {
        "id": "xuWaBkxIcQz1"
      },
      "execution_count": null,
      "outputs": []
    },
    {
      "cell_type": "markdown",
      "source": [
        "##Accumulation of round-off error"
      ],
      "metadata": {
        "id": "Fw6mWF__XOzG"
      }
    },
    {
      "cell_type": "code",
      "source": [
        "def add_then_subtract(iterations):\n",
        "    x = 1\n",
        "    \n",
        "    for i in range(iterations):\n",
        "        x += 1/5\n",
        "\n",
        "    for i in range(iterations):\n",
        "        x -= 1/5\n",
        "    \n",
        "    return x"
      ],
      "metadata": {
        "id": "DO1MmuZ8dEs0"
      },
      "execution_count": null,
      "outputs": []
    },
    {
      "cell_type": "code",
      "source": [
        "add_then_subtract(100)"
      ],
      "metadata": {
        "id": "E5iVPlxSd88i"
      },
      "execution_count": null,
      "outputs": []
    },
    {
      "cell_type": "code",
      "source": [
        "add_then_subtract(10000)"
      ],
      "metadata": {
        "id": "ple_cXv8d85y"
      },
      "execution_count": null,
      "outputs": []
    },
    {
      "cell_type": "code",
      "source": [
        "def subtract_then_add(iterations):\n",
        "    x = 1\n",
        "    \n",
        "    for i in range(iterations):\n",
        "        x -= 1/5\n",
        "\n",
        "    for i in range(iterations):\n",
        "        x += 1/5\n",
        "    \n",
        "    return x"
      ],
      "metadata": {
        "id": "Npkc5mfid80E"
      },
      "execution_count": null,
      "outputs": []
    },
    {
      "cell_type": "code",
      "source": [
        "subtract_then_add(1000)"
      ],
      "metadata": {
        "id": "FndcbOlkf_Jx"
      },
      "execution_count": null,
      "outputs": []
    },
    {
      "cell_type": "code",
      "source": [
        "subtract_then_add(10000)"
      ],
      "metadata": {
        "id": "eM9WSfDOf_tl"
      },
      "execution_count": null,
      "outputs": []
    },
    {
      "cell_type": "code",
      "source": [
        "def add_and_subtract_together(iterations):\n",
        "    x = 1\n",
        "    \n",
        "    for i in range(iterations):\n",
        "        x += 1/5\n",
        "        x -= 1/5\n",
        "    return x"
      ],
      "metadata": {
        "id": "t-mfxqINgHLl"
      },
      "execution_count": null,
      "outputs": []
    },
    {
      "cell_type": "code",
      "source": [
        "add_and_subtract_together(1000)"
      ],
      "metadata": {
        "id": "e6O9bGawgZlp"
      },
      "execution_count": null,
      "outputs": []
    },
    {
      "cell_type": "code",
      "source": [
        "add_and_subtract_together(10000)"
      ],
      "metadata": {
        "id": "WRvSnJTZgbJQ"
      },
      "execution_count": null,
      "outputs": []
    }
  ]
}