{
 "cells": [
  {
   "cell_type": "markdown",
   "metadata": {
    "id": "jPDJUmoHLcWP"
   },
   "source": [
    "#Section 9.1: Base-N and Binary\n"
   ]
  },
  {
   "cell_type": "markdown",
   "metadata": {
    "id": "iFy2-tMxMMYo"
   },
   "source": [
    "Base10 is based on 10 digits from 0 to 9. Similarly, base n is based on n digits from 0 to n-1.\n",
    "Base2 is special because it is based on 2 digits 0 and 1, which is why it is called binary number. \n"
   ]
  },
  {
   "cell_type": "markdown",
   "metadata": {
    "id": "NgLTunw0WkTU"
   },
   "source": [
    "##covert a binary to decimal"
   ]
  },
  {
   "cell_type": "code",
   "execution_count": 1,
   "metadata": {
    "id": "IeDPKo7rLfKz"
   },
   "outputs": [],
   "source": [
    "def my_bin_2_dec(b):\n",
    "    d = 0\n",
    "    for i in range(len(b)):\n",
    "      dig = b.pop(-1)\n",
    "      if dig == 1:\n",
    "        d = d + pow(2, i)\n",
    "    return d"
   ]
  },
  {
   "cell_type": "code",
   "execution_count": 2,
   "metadata": {
    "colab": {
     "base_uri": "https://localhost:8080/"
    },
    "id": "cJ_-IivHDm1f",
    "outputId": "beea06a7-a4a0-4e48-dd83-091a7dddc23c"
   },
   "outputs": [
    {
     "data": {
      "text/plain": [
       "7"
      ]
     },
     "execution_count": 2,
     "metadata": {},
     "output_type": "execute_result"
    }
   ],
   "source": [
    "my_bin_2_dec([1,1,1])"
   ]
  },
  {
   "cell_type": "code",
   "execution_count": 3,
   "metadata": {
    "colab": {
     "base_uri": "https://localhost:8080/"
    },
    "id": "x2xcGt88Eaiq",
    "outputId": "4ae7f146-0986-4078-a629-c2b061da5222"
   },
   "outputs": [
    {
     "data": {
      "text/plain": [
       "85"
      ]
     },
     "execution_count": 3,
     "metadata": {},
     "output_type": "execute_result"
    }
   ],
   "source": [
    "my_bin_2_dec([1, 0, 1, 0, 1, 0, 1])"
   ]
  },
  {
   "cell_type": "code",
   "execution_count": 4,
   "metadata": {
    "colab": {
     "base_uri": "https://localhost:8080/"
    },
    "id": "diI24rNYEaXZ",
    "outputId": "3461c4b7-2da4-45e5-dfbe-ecb38af24f1c"
   },
   "outputs": [
    {
     "data": {
      "text/plain": [
       "33554431"
      ]
     },
     "execution_count": 4,
     "metadata": {},
     "output_type": "execute_result"
    }
   ],
   "source": [
    "my_bin_2_dec([1]*25)"
   ]
  },
  {
   "cell_type": "markdown",
   "metadata": {
    "id": "_jCRv1NfWvKt"
   },
   "source": [
    "##convert a decimal to binary"
   ]
  },
  {
   "cell_type": "code",
   "execution_count": 5,
   "metadata": {
    "id": "pxTzpHyOP2cN"
   },
   "outputs": [],
   "source": [
    "def my_dec_2_bin(d):\n",
    "  b = 0\n",
    "  position = 1\n",
    "  if d == 0:\n",
    "    return [0]\n",
    "  while d > 0:\n",
    "    b = b + ((d % 2) * position)\n",
    "    position = position * 10\n",
    "    d = d // 2\n",
    "  b = list(map(int, str(b)))\n",
    "  return b"
   ]
  },
  {
   "cell_type": "code",
   "execution_count": 6,
   "metadata": {
    "colab": {
     "base_uri": "https://localhost:8080/"
    },
    "id": "1aD7ggOGMwDS",
    "outputId": "255b6403-b8ad-43c0-8fba-df81699283ae"
   },
   "outputs": [
    {
     "data": {
      "text/plain": [
       "[1, 0, 0, 1]"
      ]
     },
     "execution_count": 6,
     "metadata": {},
     "output_type": "execute_result"
    }
   ],
   "source": [
    "my_dec_2_bin(9)"
   ]
  },
  {
   "cell_type": "code",
   "execution_count": 7,
   "metadata": {
    "colab": {
     "base_uri": "https://localhost:8080/"
    },
    "id": "qjjloY8cRZ5O",
    "outputId": "b589c46e-0ab5-41f5-d0b1-9946e0d68c2a"
   },
   "outputs": [
    {
     "data": {
      "text/plain": [
       "[0]"
      ]
     },
     "execution_count": 7,
     "metadata": {},
     "output_type": "execute_result"
    }
   ],
   "source": [
    "my_dec_2_bin(0)"
   ]
  },
  {
   "cell_type": "code",
   "execution_count": 8,
   "metadata": {
    "colab": {
     "base_uri": "https://localhost:8080/"
    },
    "id": "cY_cH3NVSNuh",
    "outputId": "3e1e201c-51d1-4536-8cde-3a9286df0018"
   },
   "outputs": [
    {
     "data": {
      "text/plain": [
       "[1, 0, 0, 0, 0, 0, 1, 1, 0, 0, 0, 1]"
      ]
     },
     "execution_count": 8,
     "metadata": {},
     "output_type": "execute_result"
    }
   ],
   "source": [
    "my_dec_2_bin(2097)"
   ]
  },
  {
   "cell_type": "code",
   "execution_count": 9,
   "metadata": {
    "colab": {
     "base_uri": "https://localhost:8080/"
    },
    "id": "zlawF3dOTlli",
    "outputId": "35e411a3-38d7-41f6-e9dd-1eb2795ddf02"
   },
   "outputs": [
    {
     "data": {
      "text/plain": [
       "[1, 1, 0, 0, 0, 1, 0, 1, 1, 0, 1, 1, 1, 0]"
      ]
     },
     "execution_count": 9,
     "metadata": {},
     "output_type": "execute_result"
    }
   ],
   "source": [
    "my_dec_2_bin(12654)"
   ]
  },
  {
   "cell_type": "code",
   "execution_count": 10,
   "metadata": {
    "colab": {
     "base_uri": "https://localhost:8080/"
    },
    "id": "QuWhMaQPUARg",
    "outputId": "07119600-06eb-4bb8-d8fd-a8b121bf7cef"
   },
   "outputs": [
    {
     "data": {
      "text/plain": [
       "12654"
      ]
     },
     "execution_count": 10,
     "metadata": {},
     "output_type": "execute_result"
    }
   ],
   "source": [
    "my_bin_2_dec(my_dec_2_bin(12654))"
   ]
  },
  {
   "cell_type": "markdown",
   "metadata": {
    "id": "LYKTxA9hXAAT"
   },
   "source": [
    "##add two binary numbers"
   ]
  },
  {
   "cell_type": "code",
   "execution_count": 11,
   "metadata": {
    "id": "01ES77spUGWp"
   },
   "outputs": [],
   "source": [
    "def my_bin_adder(b1, b2):\n",
    "    b1 = ''.join(map(str, b1))\n",
    "    b2 = ''.join(map(str, b2))\n",
    "    length = max(len(b1), len(b2))\n",
    "    b1 = b1.zfill(length)\n",
    "    b2 = b2.zfill(length)\n",
    "    b = ''\n",
    "    carry = 0\n",
    "    for i in range(length - 1, -1, -1):\n",
    "\n",
    "        if carry == 0:\n",
    "          if b1[i] == '1' and b2[i] == '1':\n",
    "            b = '0' + b\n",
    "            carry = 1\n",
    "          if b1[i] == '0' and b2[i] == '0':\n",
    "            b = '0' + b\n",
    "            carry = 0\n",
    "          if b1[i] == '0' and b2[i] == '1':\n",
    "            b = '1' + b \n",
    "            carry = 0\n",
    "          if b1[i] == '1' and b2[i] == '0':\n",
    "            b = '1' + b \n",
    "            carry = 0\n",
    "\n",
    "\n",
    "        else:\n",
    "          if b1[i] == '1' and b2[i] == '1':\n",
    "            b = '1' + b\n",
    "            carry = 1\n",
    "          if b1[i] == '1' and b2[i] == '0':\n",
    "            b = '0' + b \n",
    "            carry = 1\n",
    "          if b1[i] == '0' and b2[i] == '0':\n",
    "            b = '1' + b\n",
    "            carry = 0\n",
    "          if b1[i] == '0' and b2[i] == '1':\n",
    "            b = '0' + b \n",
    "            carry = 1\n",
    "      \n",
    "    if carry == 1:\n",
    "      b = '1' + b\n",
    "\n",
    "    b = list(map(int, str(b)))\n",
    "    return b"
   ]
  },
  {
   "cell_type": "code",
   "execution_count": 12,
   "metadata": {
    "colab": {
     "base_uri": "https://localhost:8080/"
    },
    "id": "ZZ0GW7ZpVSX0",
    "outputId": "c2930e79-6f47-4b2b-8176-7b3fb0a30bcb"
   },
   "outputs": [
    {
     "data": {
      "text/plain": [
       "[1, 0, 0, 0, 0, 0]"
      ]
     },
     "execution_count": 12,
     "metadata": {},
     "output_type": "execute_result"
    }
   ],
   "source": [
    "my_bin_adder([1, 1, 1, 1, 1], [1])"
   ]
  },
  {
   "cell_type": "code",
   "execution_count": 13,
   "metadata": {
    "colab": {
     "base_uri": "https://localhost:8080/"
    },
    "id": "PRpDk07EVSQ1",
    "outputId": "4f3d172d-fbe4-4d10-80ed-37186968dc96"
   },
   "outputs": [
    {
     "data": {
      "text/plain": [
       "[1, 1, 1, 0, 0, 1, 1]"
      ]
     },
     "execution_count": 13,
     "metadata": {},
     "output_type": "execute_result"
    }
   ],
   "source": [
    "my_bin_adder([1, 1, 1, 1, 1], [1, 0, 1, 0, 1, 0, 0])"
   ]
  },
  {
   "cell_type": "code",
   "execution_count": 14,
   "metadata": {
    "colab": {
     "base_uri": "https://localhost:8080/"
    },
    "id": "A7GQL-uUXH3G",
    "outputId": "b9c40911-b3db-4d6a-d898-c5757d18e0bf"
   },
   "outputs": [
    {
     "data": {
      "text/plain": [
       "[1, 0, 1, 1]"
      ]
     },
     "execution_count": 14,
     "metadata": {},
     "output_type": "execute_result"
    }
   ],
   "source": [
    "my_bin_adder([1, 1, 0], [1, 0, 1])"
   ]
  },
  {
   "cell_type": "markdown",
   "metadata": {
    "id": "Uw2jIphCMyB-"
   },
   "source": [
    "#Section 9.2: Floating Point Numbers\n"
   ]
  },
  {
   "cell_type": "markdown",
   "metadata": {
    "id": "MQd4ER7QNzwM"
   },
   "source": [
    "Floats allocate bits to three different parts: the sign indicator, s, which says whether a number is positive or negative; characteristic or exponent, e, which is the power of 2; and the fraction, f, which is the coefficient of the exponent. "
   ]
  },
  {
   "cell_type": "markdown",
   "metadata": {
    "id": "YK_Lz8ipgbmc"
   },
   "source": [
    "1 bit is allocated to the sign indicator, 11 bits are allocated to the exponent, and 52 bits are allocated to the fraction. "
   ]
  },
  {
   "cell_type": "markdown",
   "metadata": {
    "id": "uH59TjDO04Q-"
   },
   "source": [
    "##convert a 64-bit IEEE754 to decimal"
   ]
  },
  {
   "cell_type": "code",
   "execution_count": 58,
   "metadata": {
    "id": "3bTwq_LTwTTr"
   },
   "outputs": [],
   "source": [
    "import numpy as np\n",
    "from decimal import Decimal\n",
    "\n",
    "def my_ieee_2_dec(ieee):\n",
    "\n",
    "    d = 0\n",
    "    ex = 0\n",
    "    frac = 0\n",
    "\n",
    "    if int(ieee[0]) == 1:\n",
    "      sign = -1\n",
    "    else:\n",
    "      sign = 1\n",
    "\n",
    "    for i in range(1,11):\n",
    "      if int(ieee[i]) == 1:\n",
    "        ex = ex + pow(2, 11-i)\n",
    "    ex = ex - 1023\n",
    "\n",
    "    for j in range(12,63):\n",
    "      if int(ieee[j]) == 1:\n",
    "        frac = frac + 1/(pow(2, j-11))\n",
    "\n",
    "    d = sign * pow(2,ex) * (1 + frac)\n",
    "    d = Decimal(d)\n",
    "    \n",
    "    return d\n",
    "# I wrote this fuction in a manual way and it is not quite precise. \n",
    "# I have not found the error. "
   ]
  },
  {
   "cell_type": "code",
   "execution_count": 16,
   "metadata": {
    "colab": {
     "base_uri": "https://localhost:8080/"
    },
    "id": "rVibwSkrkFPL",
    "outputId": "b7ac33d1-9dba-4a05-b954-ac4c8721e75b"
   },
   "outputs": [
    {
     "data": {
      "text/plain": [
       "Decimal('-48')"
      ]
     },
     "execution_count": 16,
     "metadata": {},
     "output_type": "execute_result"
    }
   ],
   "source": [
    "ieee = '1100000001001000000000000000000000000000000000000000000000000000'\n",
    "my_ieee_2_dec(ieee)"
   ]
  },
  {
   "cell_type": "code",
   "execution_count": 17,
   "metadata": {
    "colab": {
     "base_uri": "https://localhost:8080/"
    },
    "id": "mYbIewxoAOSW",
    "outputId": "91ac5409-7b1a-4881-dcee-62740aa74fec"
   },
   "outputs": [
    {
     "data": {
      "text/plain": [
       "Decimal('3.39999999999999946709294817992486059665679931640625')"
      ]
     },
     "execution_count": 17,
     "metadata": {},
     "output_type": "execute_result"
    }
   ],
   "source": [
    "ieee = '0100000000001011001100110011001100110011001100110011001100110011'\n",
    "my_ieee_2_dec(ieee)"
   ]
  },
  {
   "cell_type": "code",
   "execution_count": 18,
   "metadata": {
    "id": "bQ3-olQmpPNf"
   },
   "outputs": [],
   "source": [
    "# I'm using more advanced module and fuction in Python\n",
    "import struct\n",
    "def my_ieee_3_dec(ieee):\n",
    "\n",
    "    base2 = int(ieee, 2)    \n",
    "    \n",
    "    byte_obj = struct.pack('Q', base2)\n",
    "\n",
    "    d = struct.unpack('d', byte_obj)\n",
    "\n",
    "    d = Decimal(d[0])\n",
    "    return d"
   ]
  },
  {
   "cell_type": "code",
   "execution_count": 82,
   "metadata": {},
   "outputs": [
    {
     "data": {
      "text/plain": [
       "Decimal('14.9999999999999982236431605997495353221893310546875')"
      ]
     },
     "execution_count": 82,
     "metadata": {},
     "output_type": "execute_result"
    }
   ],
   "source": [
    "my_ieee_3_dec('0100000000101101111111111111111111111111111111111111111111111111')"
   ]
  },
  {
   "cell_type": "code",
   "execution_count": 19,
   "metadata": {
    "colab": {
     "base_uri": "https://localhost:8080/"
    },
    "id": "56ncRYmC2iKo",
    "outputId": "cdc0a1f2-0fab-4cfd-fc4e-437d588e0760"
   },
   "outputs": [
    {
     "data": {
      "text/plain": [
       "Decimal('3.399999999999999911182158029987476766109466552734375')"
      ]
     },
     "execution_count": 19,
     "metadata": {},
     "output_type": "execute_result"
    }
   ],
   "source": [
    "ieee = '0100000000001011001100110011001100110011001100110011001100110011'\n",
    "my_ieee_3_dec(ieee)"
   ]
  },
  {
   "cell_type": "code",
   "execution_count": 20,
   "metadata": {
    "colab": {
     "base_uri": "https://localhost:8080/"
    },
    "id": "tCja-Fc17nj0",
    "outputId": "369b0c3d-a8ca-49c5-d2cf-83541d3b2ac9"
   },
   "outputs": [
    {
     "data": {
      "text/plain": [
       "Decimal('-48')"
      ]
     },
     "execution_count": 20,
     "metadata": {},
     "output_type": "execute_result"
    }
   ],
   "source": [
    "ieee = '1100000001001000000000000000000000000000000000000000000000000000'\n",
    "my_ieee_3_dec(ieee)"
   ]
  },
  {
   "cell_type": "markdown",
   "metadata": {},
   "source": [
    "##the largest defined number for 64 bits"
   ]
  },
  {
   "cell_type": "code",
   "execution_count": 48,
   "metadata": {},
   "outputs": [
    {
     "data": {
      "text/plain": [
       "Decimal('179769313486231570814527423731704356798070567525844996598917476803157260780028538760589558632766878171540458953514382464234321326889464182768467546703537516986049910576551282076245490090389328944075868508455133942304583236903222948165808559332123348274797826204144723168738177180919299881250404026184124858368')"
      ]
     },
     "execution_count": 48,
     "metadata": {},
     "output_type": "execute_result"
    }
   ],
   "source": [
    "ieee = '0111111111101111111111111111111111111111111111111111111111111111'\n",
    "my_ieee_3_dec(ieee)"
   ]
  },
  {
   "cell_type": "code",
   "execution_count": 52,
   "metadata": {},
   "outputs": [
    {
     "data": {
      "text/plain": [
       "1.7976931348623157e+308"
      ]
     },
     "execution_count": 52,
     "metadata": {},
     "output_type": "execute_result"
    }
   ],
   "source": [
    "import sys\n",
    "sys.float_info.max"
   ]
  },
  {
   "cell_type": "code",
   "execution_count": 53,
   "metadata": {},
   "outputs": [
    {
     "data": {
      "text/plain": [
       "True"
      ]
     },
     "execution_count": 53,
     "metadata": {},
     "output_type": "execute_result"
    }
   ],
   "source": [
    "sys.float_info.max == my_ieee_3_dec(ieee)"
   ]
  },
  {
   "cell_type": "markdown",
   "metadata": {},
   "source": [
    "##the smallest defined number for 64 bits"
   ]
  },
  {
   "cell_type": "code",
   "execution_count": 65,
   "metadata": {},
   "outputs": [
    {
     "data": {
      "text/plain": [
       "Decimal('1.1125369292536006915451163586662020321096079902311659152766637084436022174069590979271415795062555102820336698655179055025762170807767300544280061926888594105653889967660011652398050737212918180359607825234712518671041876254033253083290794743602455899842958198242503179543850591524373998904438768749747257902258025254576999282912354093225567689679024960579905428830259962166760571761950743978498047956444458014963207555317331566968317387932565146858810236628158907428321754360614143188210224234057038069557385314008449266220550120807237108092835830752700771425423583764509515806613894483648536865616670434944915875339194234630463869889864293298274705456845477030682337843511993391576453404923086054623126983642578125E-308')"
      ]
     },
     "execution_count": 65,
     "metadata": {},
     "output_type": "execute_result"
    }
   ],
   "source": [
    "ieee = '000000000001000000000000000000000000000000000000000000000000000'\n",
    "my_ieee_3_dec(ieee)"
   ]
  },
  {
   "cell_type": "code",
   "execution_count": 66,
   "metadata": {},
   "outputs": [
    {
     "data": {
      "text/plain": [
       "2.2250738585072014e-308"
      ]
     },
     "execution_count": 66,
     "metadata": {},
     "output_type": "execute_result"
    }
   ],
   "source": [
    "sys.float_info.min"
   ]
  },
  {
   "cell_type": "code",
   "execution_count": 69,
   "metadata": {},
   "outputs": [
    {
     "data": {
      "text/plain": [
       "False"
      ]
     },
     "execution_count": 69,
     "metadata": {},
     "output_type": "execute_result"
    }
   ],
   "source": [
    "sys.float_info.min == my_ieee_3_dec(ieee) #the function does not pass this case "
   ]
  },
  {
   "cell_type": "markdown",
   "metadata": {},
   "source": [
    "Numbers that are larger than the largest representable floating point number result in overflow, and Python handles this case by assigning the result to inf. Numbers that are smaller than the smallest subnormal number result in underflow, and Python handles this case by assigning the result to 0."
   ]
  },
  {
   "cell_type": "code",
   "execution_count": 73,
   "metadata": {},
   "outputs": [
    {
     "data": {
      "text/plain": [
       "True"
      ]
     },
     "execution_count": 73,
     "metadata": {},
     "output_type": "execute_result"
    }
   ],
   "source": [
    " sys.float_info.max + 2 == sys.float_info.max  #equivalent to add zero"
   ]
  },
  {
   "cell_type": "code",
   "execution_count": 72,
   "metadata": {},
   "outputs": [
    {
     "data": {
      "text/plain": [
       "inf"
      ]
     },
     "execution_count": 72,
     "metadata": {},
     "output_type": "execute_result"
    }
   ],
   "source": [
    "sys.float_info.max + sys.float_info.max #overflow"
   ]
  },
  {
   "cell_type": "code",
   "execution_count": 74,
   "metadata": {},
   "outputs": [
    {
     "data": {
      "text/plain": [
       "-100.0"
      ]
     },
     "execution_count": 74,
     "metadata": {},
     "output_type": "execute_result"
    }
   ],
   "source": [
    "sys.float_info.min - 100  #equivalent to substract 100 from 0"
   ]
  },
  {
   "cell_type": "markdown",
   "metadata": {},
   "source": [
    "The smallest subnormal number in 64-bit number has \n",
    "s = 0, \n",
    "e = 00000000000, and f = 000000000000000000000000000000000000000000000000000."
   ]
  },
  {
   "cell_type": "code",
   "execution_count": 78,
   "metadata": {},
   "outputs": [
    {
     "data": {
      "text/plain": [
       "0.0"
      ]
     },
     "execution_count": 78,
     "metadata": {},
     "output_type": "execute_result"
    }
   ],
   "source": [
    "2**(-1075)"
   ]
  },
  {
   "cell_type": "code",
   "execution_count": 76,
   "metadata": {},
   "outputs": [
    {
     "data": {
      "text/plain": [
       "True"
      ]
     },
     "execution_count": 76,
     "metadata": {},
     "output_type": "execute_result"
    }
   ],
   "source": [
    "2**(-1075) == 0"
   ]
  },
  {
   "cell_type": "code",
   "execution_count": 75,
   "metadata": {},
   "outputs": [
    {
     "data": {
      "text/plain": [
       "5e-324"
      ]
     },
     "execution_count": 75,
     "metadata": {},
     "output_type": "execute_result"
    }
   ],
   "source": [
    "2**(-1074)"
   ]
  },
  {
   "cell_type": "code",
   "execution_count": 77,
   "metadata": {},
   "outputs": [
    {
     "data": {
      "text/plain": [
       "False"
      ]
     },
     "execution_count": 77,
     "metadata": {},
     "output_type": "execute_result"
    }
   ],
   "source": [
    "2**(-1074) == 0"
   ]
  },
  {
   "cell_type": "markdown",
   "metadata": {
    "id": "YWsfw7N19eUn"
   },
   "source": [
    "##convert decimal to 64-bit IEEE754"
   ]
  },
  {
   "cell_type": "code",
   "execution_count": 21,
   "metadata": {
    "id": "pHCK5rwI9j95"
   },
   "outputs": [],
   "source": [
    "def my_dec_2_ieee(d):\n",
    "\n",
    "    byte_obj = struct.pack('d', d)\n",
    "\n",
    "    base2 = struct.unpack('Q', byte_obj)\n",
    "\n",
    "    base2 = base2[0]\n",
    "\n",
    "    if base2 > 0: \n",
    "      ieee = str(bin(base2))\n",
    "      ieee = ieee[2:]\n",
    "    else:\n",
    "      ieee = str(bin(base2))\n",
    "      ieee = ieee[3:]\n",
    "\n",
    "    return ieee"
   ]
  },
  {
   "cell_type": "code",
   "execution_count": 22,
   "metadata": {
    "id": "etNRqEmFqpol"
   },
   "outputs": [
    {
     "data": {
      "text/plain": [
       "'100000000101110000000000000000000000000000000000000000000000000'"
      ]
     },
     "execution_count": 22,
     "metadata": {},
     "output_type": "execute_result"
    }
   ],
   "source": [
    "d = 15.0\n",
    "my_dec_2_ieee(d)"
   ]
  },
  {
   "cell_type": "code",
   "execution_count": 23,
   "metadata": {
    "id": "itHnpytK-XEO"
   },
   "outputs": [
    {
     "data": {
      "text/plain": [
       "'1100000001110011010100100100010010010001001010011000100010010000'"
      ]
     },
     "execution_count": 23,
     "metadata": {},
     "output_type": "execute_result"
    }
   ],
   "source": [
    "d = -309.141740\n",
    "my_dec_2_ieee(d)"
   ]
  },
  {
   "cell_type": "code",
   "execution_count": 24,
   "metadata": {
    "id": "Tsf8Vzdd-Zbv"
   },
   "outputs": [
    {
     "data": {
      "text/plain": [
       "'1100000011011000101010010000000000000000000000000000000000000000'"
      ]
     },
     "execution_count": 24,
     "metadata": {},
     "output_type": "execute_result"
    }
   ],
   "source": [
    "d = -25252\n",
    "my_dec_2_ieee(d)"
   ]
  },
  {
   "cell_type": "markdown",
   "metadata": {
    "id": "texysD2MP5wV"
   },
   "source": [
    "#Section 9.3: Round-off Errors"
   ]
  },
  {
   "cell_type": "markdown",
   "metadata": {
    "id": "QM9M-KcWQEG5"
   },
   "source": [
    "The floating point numbers can not be stored with perfect precision, instead the numbers are approximated by finite number of bytes. Therefore, the difference between an approximation of a number used in computation and its correct (true) value is called round-off error. "
   ]
  },
  {
   "cell_type": "markdown",
   "metadata": {
    "id": "EhVlfqPVW9mG"
   },
   "source": [
    "##Representation error"
   ]
  },
  {
   "cell_type": "code",
   "execution_count": 25,
   "metadata": {
    "colab": {
     "base_uri": "https://localhost:8080/"
    },
    "id": "USyTIGE9XhAe",
    "outputId": "b8601517-762b-42d9-8171-19ebb540c0e3"
   },
   "outputs": [
    {
     "data": {
      "text/plain": [
       "0.3"
      ]
     },
     "execution_count": 25,
     "metadata": {},
     "output_type": "execute_result"
    }
   ],
   "source": [
    "float(0.3)"
   ]
  },
  {
   "cell_type": "code",
   "execution_count": 26,
   "metadata": {
    "colab": {
     "base_uri": "https://localhost:8080/",
     "height": 35
    },
    "id": "SFm4MiWOXg0v",
    "outputId": "0e130de0-019e-4dcd-ab3c-40b6637c58ae"
   },
   "outputs": [
    {
     "data": {
      "text/plain": [
       "'0.29999999999999998889776975375'"
      ]
     },
     "execution_count": 26,
     "metadata": {},
     "output_type": "execute_result"
    }
   ],
   "source": [
    "format(0.3, '.29f')"
   ]
  },
  {
   "cell_type": "code",
   "execution_count": 27,
   "metadata": {
    "colab": {
     "base_uri": "https://localhost:8080/"
    },
    "id": "vghrJ6XLX9GF",
    "outputId": "127e03b5-0093-48ab-d842-16c2dffeda42"
   },
   "outputs": [
    {
     "data": {
      "text/plain": [
       "3.141592653589793"
      ]
     },
     "execution_count": 27,
     "metadata": {},
     "output_type": "execute_result"
    }
   ],
   "source": [
    "import math\n",
    "\n",
    "float(math.pi)"
   ]
  },
  {
   "cell_type": "code",
   "execution_count": 28,
   "metadata": {
    "colab": {
     "base_uri": "https://localhost:8080/",
     "height": 35
    },
    "id": "IECthUHbYK-y",
    "outputId": "8b077070-bd6f-4e70-d226-ed7a1084ba13"
   },
   "outputs": [
    {
     "data": {
      "text/plain": [
       "'3.14159265358979311599796346854'"
      ]
     },
     "execution_count": 28,
     "metadata": {},
     "output_type": "execute_result"
    }
   ],
   "source": [
    "format(math.pi, '.29f')"
   ]
  },
  {
   "cell_type": "markdown",
   "metadata": {
    "id": "SJKj35tEXKs3"
   },
   "source": [
    "##Round-off error by floating-point arithmetic"
   ]
  },
  {
   "cell_type": "code",
   "execution_count": 29,
   "metadata": {
    "colab": {
     "base_uri": "https://localhost:8080/"
    },
    "id": "WkMTcAh3Ykjq",
    "outputId": "cfd3a8a5-202b-4dc9-948f-2a676d9d0e0b"
   },
   "outputs": [
    {
     "name": "stdout",
     "output_type": "stream",
     "text": [
      "3.7\n"
     ]
    }
   ],
   "source": [
    "n = 3.7471\n",
    "r = round(n,1)\n",
    "print(r)"
   ]
  },
  {
   "cell_type": "code",
   "execution_count": 30,
   "metadata": {
    "colab": {
     "base_uri": "https://localhost:8080/"
    },
    "id": "X3_64s-oYkcu",
    "outputId": "a907ad0e-b9c4-4b48-cb45-91b11caae2ad"
   },
   "outputs": [
    {
     "name": "stdout",
     "output_type": "stream",
     "text": [
      "3.747\n"
     ]
    }
   ],
   "source": [
    "r1 = round(n,3)\n",
    "print(r1)"
   ]
  },
  {
   "cell_type": "code",
   "execution_count": 31,
   "metadata": {
    "colab": {
     "base_uri": "https://localhost:8080/"
    },
    "id": "C3s5TkzbYkIi",
    "outputId": "02d9987c-f735-48cd-f950-40d1dbbd81aa"
   },
   "outputs": [
    {
     "name": "stdout",
     "output_type": "stream",
     "text": [
      "3.75\n"
     ]
    }
   ],
   "source": [
    "r2 = round(r1,2)\n",
    "print(r2)"
   ]
  },
  {
   "cell_type": "code",
   "execution_count": 32,
   "metadata": {
    "colab": {
     "base_uri": "https://localhost:8080/"
    },
    "id": "Fhxr5QvYZoEb",
    "outputId": "ccde58d5-6dca-49fd-bc61-7edd3ee63124"
   },
   "outputs": [
    {
     "name": "stdout",
     "output_type": "stream",
     "text": [
      "3.8\n"
     ]
    }
   ],
   "source": [
    "r3 = round(r2,1)\n",
    "print(r3)"
   ]
  },
  {
   "cell_type": "code",
   "execution_count": 33,
   "metadata": {
    "colab": {
     "base_uri": "https://localhost:8080/"
    },
    "id": "YrGk0FZub9he",
    "outputId": "ddc8eea0-a080-438e-c475-385447bd0568"
   },
   "outputs": [
    {
     "name": "stdout",
     "output_type": "stream",
     "text": [
      "-0.04709999999999992\n"
     ]
    }
   ],
   "source": [
    "err = r - n\n",
    "print(err)"
   ]
  },
  {
   "cell_type": "code",
   "execution_count": 34,
   "metadata": {
    "colab": {
     "base_uri": "https://localhost:8080/"
    },
    "id": "xuWaBkxIcQz1",
    "outputId": "743a5c08-e6fd-4097-cc44-88d9a9824de2"
   },
   "outputs": [
    {
     "name": "stdout",
     "output_type": "stream",
     "text": [
      "0.052899999999999725\n"
     ]
    }
   ],
   "source": [
    "err1 = r3 - n\n",
    "print(err1)"
   ]
  },
  {
   "cell_type": "markdown",
   "metadata": {
    "id": "Fw6mWF__XOzG"
   },
   "source": [
    "##Accumulation of round-off error"
   ]
  },
  {
   "cell_type": "code",
   "execution_count": 35,
   "metadata": {
    "id": "DO1MmuZ8dEs0"
   },
   "outputs": [],
   "source": [
    "def add_then_subtract(iterations):\n",
    "    x = 1\n",
    "    \n",
    "    for i in range(iterations):\n",
    "        x += 1/5\n",
    "\n",
    "    for i in range(iterations):\n",
    "        x -= 1/5\n",
    "    \n",
    "    return x"
   ]
  },
  {
   "cell_type": "code",
   "execution_count": 36,
   "metadata": {
    "colab": {
     "base_uri": "https://localhost:8080/"
    },
    "id": "E5iVPlxSd88i",
    "outputId": "ab11e7a0-46a7-46d3-9a0d-8c7e53f03464"
   },
   "outputs": [
    {
     "data": {
      "text/plain": [
       "0.9999999999999987"
      ]
     },
     "execution_count": 36,
     "metadata": {},
     "output_type": "execute_result"
    }
   ],
   "source": [
    "add_then_subtract(100)"
   ]
  },
  {
   "cell_type": "code",
   "execution_count": 37,
   "metadata": {
    "colab": {
     "base_uri": "https://localhost:8080/"
    },
    "id": "ple_cXv8d85y",
    "outputId": "965774d9-2ef8-4ffb-cf24-a0d46520da96"
   },
   "outputs": [
    {
     "data": {
      "text/plain": [
       "0.9999999999999125"
      ]
     },
     "execution_count": 37,
     "metadata": {},
     "output_type": "execute_result"
    }
   ],
   "source": [
    "add_then_subtract(10000)"
   ]
  },
  {
   "cell_type": "code",
   "execution_count": 38,
   "metadata": {
    "id": "Npkc5mfid80E"
   },
   "outputs": [],
   "source": [
    "def subtract_then_add(iterations):\n",
    "    x = 1\n",
    "    \n",
    "    for i in range(iterations):\n",
    "        x -= 1/5\n",
    "\n",
    "    for i in range(iterations):\n",
    "        x += 1/5\n",
    "    \n",
    "    return x"
   ]
  },
  {
   "cell_type": "code",
   "execution_count": 39,
   "metadata": {
    "colab": {
     "base_uri": "https://localhost:8080/"
    },
    "id": "FndcbOlkf_Jx",
    "outputId": "a6f15e5b-3a99-46ce-eb0f-fecc6bf724f4"
   },
   "outputs": [
    {
     "data": {
      "text/plain": [
       "1.0000000000000013"
      ]
     },
     "execution_count": 39,
     "metadata": {},
     "output_type": "execute_result"
    }
   ],
   "source": [
    "subtract_then_add(1000)"
   ]
  },
  {
   "cell_type": "code",
   "execution_count": 40,
   "metadata": {
    "colab": {
     "base_uri": "https://localhost:8080/"
    },
    "id": "eM9WSfDOf_tl",
    "outputId": "3f656e37-6cf1-4f2e-a9e4-5a31bbc76fc1"
   },
   "outputs": [
    {
     "data": {
      "text/plain": [
       "1.0000000000000875"
      ]
     },
     "execution_count": 40,
     "metadata": {},
     "output_type": "execute_result"
    }
   ],
   "source": [
    "subtract_then_add(10000)"
   ]
  },
  {
   "cell_type": "code",
   "execution_count": 41,
   "metadata": {
    "id": "t-mfxqINgHLl"
   },
   "outputs": [],
   "source": [
    "def add_and_subtract_together(iterations):\n",
    "    x = 1\n",
    "    \n",
    "    for i in range(iterations):\n",
    "        x += 1/5\n",
    "        x -= 1/5\n",
    "    return x"
   ]
  },
  {
   "cell_type": "code",
   "execution_count": 42,
   "metadata": {
    "colab": {
     "base_uri": "https://localhost:8080/"
    },
    "id": "e6O9bGawgZlp",
    "outputId": "0f114d91-0ad0-4603-85df-03cfdb647139"
   },
   "outputs": [
    {
     "data": {
      "text/plain": [
       "1.0"
      ]
     },
     "execution_count": 42,
     "metadata": {},
     "output_type": "execute_result"
    }
   ],
   "source": [
    "add_and_subtract_together(1000)"
   ]
  },
  {
   "cell_type": "code",
   "execution_count": 43,
   "metadata": {
    "colab": {
     "base_uri": "https://localhost:8080/"
    },
    "id": "WRvSnJTZgbJQ",
    "outputId": "4eae60ef-d7bc-4854-b0b7-b840a15ba297"
   },
   "outputs": [
    {
     "data": {
      "text/plain": [
       "1.0"
      ]
     },
     "execution_count": 43,
     "metadata": {},
     "output_type": "execute_result"
    }
   ],
   "source": [
    "add_and_subtract_together(10000)"
   ]
  }
 ],
 "metadata": {
  "colab": {
   "collapsed_sections": [],
   "name": "Module A.ipynb",
   "provenance": [],
   "toc_visible": true
  },
  "kernelspec": {
   "display_name": "Python 3",
   "language": "python",
   "name": "python3"
  },
  "language_info": {
   "codemirror_mode": {
    "name": "ipython",
    "version": 3
   },
   "file_extension": ".py",
   "mimetype": "text/x-python",
   "name": "python",
   "nbconvert_exporter": "python",
   "pygments_lexer": "ipython3",
   "version": "3.8.8"
  }
 },
 "nbformat": 4,
 "nbformat_minor": 1
}
