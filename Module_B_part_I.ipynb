{
  "nbformat": 4,
  "nbformat_minor": 0,
  "metadata": {
    "colab": {
      "name": "Module B part I.ipynb",
      "provenance": [],
      "collapsed_sections": [],
      "toc_visible": true
    },
    "kernelspec": {
      "name": "python3",
      "display_name": "Python 3"
    },
    "language_info": {
      "name": "python"
    }
  },
  "cells": [
    {
      "cell_type": "markdown",
      "source": [
        "#Section 17.1: Interpolation Problem Statement"
      ],
      "metadata": {
        "id": "TtpLhowGEi9w"
      }
    },
    {
      "cell_type": "markdown",
      "source": [
        "##Definition of Interpolation:\n"
      ],
      "metadata": {
        "id": "olsxORiW1kGN"
      }
    },
    {
      "cell_type": "markdown",
      "source": [
        "Given a data set consisting of independent data values, $x_i$, and dependent data values, $y_i$, where $i$ = 1, 2, 3,..., n. To find an estimation function such that $\\widehat y(x_i)$ = $y_i$ for every point in the dataset, we can interpolate its function value using $\\widehat y(x*)$, given a new $x*$ value. This is called an interpolation function. "
      ],
      "metadata": {
        "id": "_B6_VWWT1oP1"
      }
    },
    {
      "cell_type": "markdown",
      "source": [
        "##Example: \n",
        "A dataset shows the population of a city which was recorded every ten years, starting in 1980."
      ],
      "metadata": {
        "id": "gdnanV5l7A2W"
      }
    },
    {
      "cell_type": "code",
      "source": [
        "import pandas as pd\n",
        "import numpy as np\n",
        "data = np.array([[1980, 100000], \n",
        "                 [1990, 127000],\n",
        "                 [2000, 142000],\n",
        "                 [2010, 153000],\n",
        "                 [2020, 160000]])\n",
        "          \n",
        "df = pd.DataFrame(data, columns=['year', 'population'])\n",
        "df"
      ],
      "metadata": {
        "id": "LXcPQkvf7-NL",
        "colab": {
          "base_uri": "https://localhost:8080/",
          "height": 206
        },
        "outputId": "6da5eb51-05d5-47da-fa9c-855caf77e26e"
      },
      "execution_count": 14,
      "outputs": [
        {
          "output_type": "execute_result",
          "data": {
            "text/html": [
              "\n",
              "  <div id=\"df-25749be5-93fc-4fe7-bdb6-d94e6df33bbe\">\n",
              "    <div class=\"colab-df-container\">\n",
              "      <div>\n",
              "<style scoped>\n",
              "    .dataframe tbody tr th:only-of-type {\n",
              "        vertical-align: middle;\n",
              "    }\n",
              "\n",
              "    .dataframe tbody tr th {\n",
              "        vertical-align: top;\n",
              "    }\n",
              "\n",
              "    .dataframe thead th {\n",
              "        text-align: right;\n",
              "    }\n",
              "</style>\n",
              "<table border=\"1\" class=\"dataframe\">\n",
              "  <thead>\n",
              "    <tr style=\"text-align: right;\">\n",
              "      <th></th>\n",
              "      <th>year</th>\n",
              "      <th>population</th>\n",
              "    </tr>\n",
              "  </thead>\n",
              "  <tbody>\n",
              "    <tr>\n",
              "      <th>0</th>\n",
              "      <td>1980</td>\n",
              "      <td>100000</td>\n",
              "    </tr>\n",
              "    <tr>\n",
              "      <th>1</th>\n",
              "      <td>1990</td>\n",
              "      <td>127000</td>\n",
              "    </tr>\n",
              "    <tr>\n",
              "      <th>2</th>\n",
              "      <td>2000</td>\n",
              "      <td>142000</td>\n",
              "    </tr>\n",
              "    <tr>\n",
              "      <th>3</th>\n",
              "      <td>2010</td>\n",
              "      <td>153000</td>\n",
              "    </tr>\n",
              "    <tr>\n",
              "      <th>4</th>\n",
              "      <td>2020</td>\n",
              "      <td>160000</td>\n",
              "    </tr>\n",
              "  </tbody>\n",
              "</table>\n",
              "</div>\n",
              "      <button class=\"colab-df-convert\" onclick=\"convertToInteractive('df-25749be5-93fc-4fe7-bdb6-d94e6df33bbe')\"\n",
              "              title=\"Convert this dataframe to an interactive table.\"\n",
              "              style=\"display:none;\">\n",
              "        \n",
              "  <svg xmlns=\"http://www.w3.org/2000/svg\" height=\"24px\"viewBox=\"0 0 24 24\"\n",
              "       width=\"24px\">\n",
              "    <path d=\"M0 0h24v24H0V0z\" fill=\"none\"/>\n",
              "    <path d=\"M18.56 5.44l.94 2.06.94-2.06 2.06-.94-2.06-.94-.94-2.06-.94 2.06-2.06.94zm-11 1L8.5 8.5l.94-2.06 2.06-.94-2.06-.94L8.5 2.5l-.94 2.06-2.06.94zm10 10l.94 2.06.94-2.06 2.06-.94-2.06-.94-.94-2.06-.94 2.06-2.06.94z\"/><path d=\"M17.41 7.96l-1.37-1.37c-.4-.4-.92-.59-1.43-.59-.52 0-1.04.2-1.43.59L10.3 9.45l-7.72 7.72c-.78.78-.78 2.05 0 2.83L4 21.41c.39.39.9.59 1.41.59.51 0 1.02-.2 1.41-.59l7.78-7.78 2.81-2.81c.8-.78.8-2.07 0-2.86zM5.41 20L4 18.59l7.72-7.72 1.47 1.35L5.41 20z\"/>\n",
              "  </svg>\n",
              "      </button>\n",
              "      \n",
              "  <style>\n",
              "    .colab-df-container {\n",
              "      display:flex;\n",
              "      flex-wrap:wrap;\n",
              "      gap: 12px;\n",
              "    }\n",
              "\n",
              "    .colab-df-convert {\n",
              "      background-color: #E8F0FE;\n",
              "      border: none;\n",
              "      border-radius: 50%;\n",
              "      cursor: pointer;\n",
              "      display: none;\n",
              "      fill: #1967D2;\n",
              "      height: 32px;\n",
              "      padding: 0 0 0 0;\n",
              "      width: 32px;\n",
              "    }\n",
              "\n",
              "    .colab-df-convert:hover {\n",
              "      background-color: #E2EBFA;\n",
              "      box-shadow: 0px 1px 2px rgba(60, 64, 67, 0.3), 0px 1px 3px 1px rgba(60, 64, 67, 0.15);\n",
              "      fill: #174EA6;\n",
              "    }\n",
              "\n",
              "    [theme=dark] .colab-df-convert {\n",
              "      background-color: #3B4455;\n",
              "      fill: #D2E3FC;\n",
              "    }\n",
              "\n",
              "    [theme=dark] .colab-df-convert:hover {\n",
              "      background-color: #434B5C;\n",
              "      box-shadow: 0px 1px 3px 1px rgba(0, 0, 0, 0.15);\n",
              "      filter: drop-shadow(0px 1px 2px rgba(0, 0, 0, 0.3));\n",
              "      fill: #FFFFFF;\n",
              "    }\n",
              "  </style>\n",
              "\n",
              "      <script>\n",
              "        const buttonEl =\n",
              "          document.querySelector('#df-25749be5-93fc-4fe7-bdb6-d94e6df33bbe button.colab-df-convert');\n",
              "        buttonEl.style.display =\n",
              "          google.colab.kernel.accessAllowed ? 'block' : 'none';\n",
              "\n",
              "        async function convertToInteractive(key) {\n",
              "          const element = document.querySelector('#df-25749be5-93fc-4fe7-bdb6-d94e6df33bbe');\n",
              "          const dataTable =\n",
              "            await google.colab.kernel.invokeFunction('convertToInteractive',\n",
              "                                                     [key], {});\n",
              "          if (!dataTable) return;\n",
              "\n",
              "          const docLinkHtml = 'Like what you see? Visit the ' +\n",
              "            '<a target=\"_blank\" href=https://colab.research.google.com/notebooks/data_table.ipynb>data table notebook</a>'\n",
              "            + ' to learn more about interactive tables.';\n",
              "          element.innerHTML = '';\n",
              "          dataTable['output_type'] = 'display_data';\n",
              "          await google.colab.output.renderOutput(dataTable, element);\n",
              "          const docLink = document.createElement('div');\n",
              "          docLink.innerHTML = docLinkHtml;\n",
              "          element.appendChild(docLink);\n",
              "        }\n",
              "      </script>\n",
              "    </div>\n",
              "  </div>\n",
              "  "
            ],
            "text/plain": [
              "   year  population\n",
              "0  1980      100000\n",
              "1  1990      127000\n",
              "2  2000      142000\n",
              "3  2010      153000\n",
              "4  2020      160000"
            ]
          },
          "metadata": {},
          "execution_count": 14
        }
      ]
    },
    {
      "cell_type": "markdown",
      "source": [
        "Question: What is the population of the city in 1997?"
      ],
      "metadata": {
        "id": "k3R67XbRxm6G"
      }
    },
    {
      "cell_type": "markdown",
      "source": [
        "#Section 17.2: Linear Interpolation"
      ],
      "metadata": {
        "id": "s4ngO9DyEkoI"
      }
    },
    {
      "cell_type": "markdown",
      "source": [
        "In linear interpolation, the estimated point is assumed to lie on the line joining the nearest points to the left and right. Assume, without loss of generality, that the x-data points are in ascending order; that is, $x_i$ < $x_i$$_+$$_1$, and let x be a point such that $x_i$ < $x$ < $x_i$$_+$$_1$.  \n",
        "The linear interpolation at $x$ is: $\\widehat y(x)$ = $y_i$ + $\\frac{{(y_i}{_+}{_1}{ - y_i)}{(x - x_i)}}{{(x_i}{_+}{_1}{ - x_i)}}$. "
      ],
      "metadata": {
        "id": "4sLHJwjfyGck"
      }
    },
    {
      "cell_type": "code",
      "source": [
        "from scipy.interpolate import interp1d\n",
        "import matplotlib.pyplot as plt\n",
        "plt.style.use('seaborn-poster')"
      ],
      "metadata": {
        "id": "hu_E1kxOE4H-"
      },
      "execution_count": 15,
      "outputs": []
    },
    {
      "cell_type": "code",
      "source": [
        "f = interp1d(df['year'], df['population'])\n",
        "y_hat = f(1997)\n",
        "print(y_hat)"
      ],
      "metadata": {
        "colab": {
          "base_uri": "https://localhost:8080/"
        },
        "id": "UhAQh97H245o",
        "outputId": "c9e69914-e83d-4b7d-ead2-ad7393d96e4f"
      },
      "execution_count": 16,
      "outputs": [
        {
          "output_type": "stream",
          "name": "stdout",
          "text": [
            "137500.0\n"
          ]
        }
      ]
    },
    {
      "cell_type": "markdown",
      "source": [
        "The population of the city in 1997 is 137500. "
      ],
      "metadata": {
        "id": "hlc0IBYI4HjX"
      }
    },
    {
      "cell_type": "code",
      "source": [
        "plt.figure(figsize = (10,8))\n",
        "plt.plot(df['year'], df['population'], '-ob')\n",
        "plt.plot(1997, y_hat, 'ro')\n",
        "plt.title('Linear Interpolation at x = 1997')\n",
        "plt.xlabel('Year')\n",
        "plt.ylabel('Population')\n",
        "plt.show()"
      ],
      "metadata": {
        "colab": {
          "base_uri": "https://localhost:8080/",
          "height": 538
        },
        "id": "XHlBkOJQ4ES4",
        "outputId": "f0c39d87-8691-476f-ca24-6c3697b4e777"
      },
      "execution_count": 20,
      "outputs": [
        {
          "output_type": "display_data",
          "data": {
            "image/png": "[encoded data removed]",
            "text/plain": [
              "<Figure size 720x576 with 1 Axes>"
            ]
          },
          "metadata": {
            "needs_background": "light"
          }
        }
      ]
    },
    {
      "cell_type": "markdown",
      "source": [
        "Write a function my_lin_interp(x, y, X), where x and y are arrays containing experimental data points, and X is an array. Assume that x and X are in ascending order and have unique elements. The output argument, Y, should be an array, the same size as X, where Y[i] is the linear interpolation of X[i]. You should not use interp from numpy or interp1d from scipy."
      ],
      "metadata": {
        "id": "-qM1EVns5dGE"
      }
    },
    {
      "cell_type": "code",
      "source": [
        "def my_lin_interp(x, y, X):\n",
        "  a = np.array(x)\n",
        "  b = np.array(y)\n",
        "  c = np.array(X)\n",
        "  num1 = 0\n",
        "  num2 = 0\n",
        "  den = 0\n",
        "  rest = 0\n",
        "  Y = []\n",
        "  for k in range(len(c)):\n",
        "    c[k] = float(c[k])\n",
        "    for i in range(len(a)):\n",
        "      if a[i] > c[k] and a[i-1] < c[k]:\n",
        "        match = i\n",
        "        den = a[i]-a[i-1]\n",
        "        num1 = c[k] - a[i-1]\n",
        "        break\n",
        "    for j in range(len(b)):\n",
        "      if j == match:\n",
        "        num2 = b[j] - b[j-1]\n",
        "        rest = b[j-1]\n",
        "        break\n",
        "    Y = Y + [rest + ((num1 * num2)/den)]\n",
        "  return Y\n"
      ],
      "metadata": {
        "id": "jJyhtnP850kH"
      },
      "execution_count": 46,
      "outputs": []
    },
    {
      "cell_type": "code",
      "source": [
        "my_lin_interp(df['year'], df['population'], [1997])"
      ],
      "metadata": {
        "colab": {
          "base_uri": "https://localhost:8080/"
        },
        "id": "aUbCwVUvC18x",
        "outputId": "0eeccb30-a0a7-4712-ae3a-70645078fb19"
      },
      "execution_count": 49,
      "outputs": [
        {
          "output_type": "execute_result",
          "data": {
            "text/plain": [
              "[137500.0]"
            ]
          },
          "metadata": {},
          "execution_count": 49
        }
      ]
    },
    {
      "cell_type": "code",
      "source": [
        "x = [0, .1, .15, .35, .6, .7, .95, 1]\n",
        "y = [1, 0.8187, 0.7408, 0.4966, 0.3012, 0.2466, 0.1496, 0.1353]\n",
        "X = [.1013, .315, .729]\n",
        "my_lin_interp(x, y, X)"
      ],
      "metadata": {
        "colab": {
          "base_uri": "https://localhost:8080/"
        },
        "id": "iVSr0DfXLH-F",
        "outputId": "b8ba8ed9-0f47-4d2e-be2e-1361b27cc475"
      },
      "execution_count": 48,
      "outputs": [
        {
          "output_type": "execute_result",
          "data": {
            "text/plain": [
              "[0.8166746, 0.5393349999999999, 0.235348]"
            ]
          },
          "metadata": {},
          "execution_count": 48
        }
      ]
    },
    {
      "cell_type": "code",
      "source": [
        "#check\n",
        "g = interp1d(x, y)\n",
        "y_hat = g(0.1013)\n",
        "print(y_hat)"
      ],
      "metadata": {
        "colab": {
          "base_uri": "https://localhost:8080/"
        },
        "id": "A3cDVkhVNEQB",
        "outputId": "f11bbd1c-246e-4f8a-bc6f-502da1ad1ca9"
      },
      "execution_count": 28,
      "outputs": [
        {
          "output_type": "stream",
          "name": "stdout",
          "text": [
            "0.8166746\n"
          ]
        }
      ]
    },
    {
      "cell_type": "code",
      "source": [
        "#check\n",
        "g = interp1d(x, y)\n",
        "y_hat = g(0.315)\n",
        "print(y_hat)"
      ],
      "metadata": {
        "colab": {
          "base_uri": "https://localhost:8080/"
        },
        "id": "v2EtpZNhHhqX",
        "outputId": "de5156be-10b2-4e54-8bcd-738fca43d671"
      },
      "execution_count": 29,
      "outputs": [
        {
          "output_type": "stream",
          "name": "stdout",
          "text": [
            "0.5393349999999999\n"
          ]
        }
      ]
    },
    {
      "cell_type": "code",
      "source": [
        "#check\n",
        "g = interp1d(x, y)\n",
        "y_hat = g(0.729)\n",
        "print(y_hat)"
      ],
      "metadata": {
        "colab": {
          "base_uri": "https://localhost:8080/"
        },
        "id": "S9-HW9tgNC_g",
        "outputId": "1e3b8ae3-ebe7-447d-c092-a4db7a1831e4"
      },
      "execution_count": 30,
      "outputs": [
        {
          "output_type": "stream",
          "name": "stdout",
          "text": [
            "0.235348\n"
          ]
        }
      ]
    },
    {
      "cell_type": "markdown",
      "source": [
        "#Section 17.3: Cubic Spline Interpolation\n",
        "\n"
      ],
      "metadata": {
        "id": "dTBwyiYuElDL"
      }
    },
    {
      "cell_type": "markdown",
      "source": [
        "In cubic spline interpolation, the interpolating function is a set of piecewise cubic functions. Specifically, we assume that the points ($x_i$, $y_i$) and ($x_i$ $_+$ $_1$, $y_i$ $_+$ $_1$) are joined by a cubic polynomial\n",
        "$S_i$$(x)$ = $a_ix^3+b_ix^2+c_ix+d_i$ that is valid for $x_i  \\le x \\le x_i$$_+$$_1$ for $i = 1, 2, 3,..., n-1$. To find the interpolating function, we must first determine the coefficients $a_i, b_i, c_i, d_i$  for each of the cubic functions. For $n$ points, there are $n−1$ cubic functions to find, and each cubic function requires four coefficients. Therefore we have a total of $4(n−1)$ unknowns, and so we need $4(n−1)$ independent equations to find all the coefficients."
      ],
      "metadata": {
        "id": "-VONHGFEH2MX"
      }
    },
    {
      "cell_type": "code",
      "source": [
        "from scipy.interpolate import CubicSpline\n",
        "import numpy as np\n",
        "import matplotlib.pyplot as plt\n",
        "plt.style.use('seaborn-poster')"
      ],
      "metadata": {
        "id": "-v73FBkXE4hS"
      },
      "execution_count": 31,
      "outputs": []
    },
    {
      "cell_type": "code",
      "source": [
        "x = [1, 2, 5]\n",
        "y = [3, 1, 2]\n",
        "\n",
        "# use bc_type = 'natural' adds the constraints\n",
        "f = CubicSpline(x, y, bc_type='natural')\n",
        "x_new = np.linspace(1, 5, 135)\n",
        "y_new = f(x_new)"
      ],
      "metadata": {
        "id": "5gGVVgmkwisS"
      },
      "execution_count": 33,
      "outputs": []
    },
    {
      "cell_type": "code",
      "source": [
        "x_new"
      ],
      "metadata": {
        "colab": {
          "base_uri": "https://localhost:8080/"
        },
        "id": "VObZYiBwz42J",
        "outputId": "db15043a-df27-4d93-f81d-4f4bf73cde51"
      },
      "execution_count": 34,
      "outputs": [
        {
          "output_type": "execute_result",
          "data": {
            "text/plain": [
              "array([1.        , 1.02985075, 1.05970149, 1.08955224, 1.11940299,\n",
              "       1.14925373, 1.17910448, 1.20895522, 1.23880597, 1.26865672,\n",
              "       1.29850746, 1.32835821, 1.35820896, 1.3880597 , 1.41791045,\n",
              "       1.44776119, 1.47761194, 1.50746269, 1.53731343, 1.56716418,\n",
              "       1.59701493, 1.62686567, 1.65671642, 1.68656716, 1.71641791,\n",
              "       1.74626866, 1.7761194 , 1.80597015, 1.8358209 , 1.86567164,\n",
              "       1.89552239, 1.92537313, 1.95522388, 1.98507463, 2.01492537,\n",
              "       2.04477612, 2.07462687, 2.10447761, 2.13432836, 2.1641791 ,\n",
              "       2.19402985, 2.2238806 , 2.25373134, 2.28358209, 2.31343284,\n",
              "       2.34328358, 2.37313433, 2.40298507, 2.43283582, 2.46268657,\n",
              "       2.49253731, 2.52238806, 2.55223881, 2.58208955, 2.6119403 ,\n",
              "       2.64179104, 2.67164179, 2.70149254, 2.73134328, 2.76119403,\n",
              "       2.79104478, 2.82089552, 2.85074627, 2.88059701, 2.91044776,\n",
              "       2.94029851, 2.97014925, 3.        , 3.02985075, 3.05970149,\n",
              "       3.08955224, 3.11940299, 3.14925373, 3.17910448, 3.20895522,\n",
              "       3.23880597, 3.26865672, 3.29850746, 3.32835821, 3.35820896,\n",
              "       3.3880597 , 3.41791045, 3.44776119, 3.47761194, 3.50746269,\n",
              "       3.53731343, 3.56716418, 3.59701493, 3.62686567, 3.65671642,\n",
              "       3.68656716, 3.71641791, 3.74626866, 3.7761194 , 3.80597015,\n",
              "       3.8358209 , 3.86567164, 3.89552239, 3.92537313, 3.95522388,\n",
              "       3.98507463, 4.01492537, 4.04477612, 4.07462687, 4.10447761,\n",
              "       4.13432836, 4.1641791 , 4.19402985, 4.2238806 , 4.25373134,\n",
              "       4.28358209, 4.31343284, 4.34328358, 4.37313433, 4.40298507,\n",
              "       4.43283582, 4.46268657, 4.49253731, 4.52238806, 4.55223881,\n",
              "       4.58208955, 4.6119403 , 4.64179104, 4.67164179, 4.70149254,\n",
              "       4.73134328, 4.76119403, 4.79104478, 4.82089552, 4.85074627,\n",
              "       4.88059701, 4.91044776, 4.94029851, 4.97014925, 5.        ])"
            ]
          },
          "metadata": {},
          "execution_count": 34
        }
      ]
    },
    {
      "cell_type": "code",
      "source": [
        "y_new"
      ],
      "metadata": {
        "colab": {
          "base_uri": "https://localhost:8080/"
        },
        "id": "AfiAhB-Qz4il",
        "outputId": "32a22631-c8a5-49a7-b578-a4b3ab8d7959"
      },
      "execution_count": 35,
      "outputs": [
        {
          "output_type": "execute_result",
          "data": {
            "text/plain": [
              "array([3.        , 2.9315998 , 2.86324614, 2.79498559, 2.72686467,\n",
              "       2.65892995, 2.59122798, 2.52380529, 2.45670844, 2.38998397,\n",
              "       2.32367844, 2.2578384 , 2.19251038, 2.12774095, 2.06357664,\n",
              "       2.000064  , 1.9372496 , 1.87517996, 1.81390164, 1.7534612 ,\n",
              "       1.69390517, 1.6352801 , 1.57763255, 1.52100907, 1.46545619,\n",
              "       1.41102047, 1.35774846, 1.3056867 , 1.25488175, 1.20538015,\n",
              "       1.15722845, 1.1104732 , 1.06516094, 1.02133823, 0.97905032,\n",
              "       0.93831272, 0.89911122, 0.8614303 , 0.82525444, 0.79056812,\n",
              "       0.75735583, 0.72560205, 0.69529127, 0.66640797, 0.63893664,\n",
              "       0.61286175, 0.5881678 , 0.56483926, 0.54286062, 0.52221637,\n",
              "       0.50289098, 0.48486895, 0.46813475, 0.45267287, 0.43846779,\n",
              "       0.42550401, 0.41376599, 0.40323823, 0.3939052 , 0.38575141,\n",
              "       0.37876131, 0.37291941, 0.36821019, 0.36461812, 0.36212769,\n",
              "       0.36072339, 0.36038971, 0.36111111, 0.3628721 , 0.36565714,\n",
              "       0.36945073, 0.37423736, 0.38000149, 0.38672763, 0.39440024,\n",
              "       0.40300382, 0.41252285, 0.42294182, 0.4342452 , 0.44641748,\n",
              "       0.45944315, 0.47330669, 0.48799258, 0.5034853 , 0.51976935,\n",
              "       0.5368292 , 0.55464934, 0.57321425, 0.59250842, 0.61251633,\n",
              "       0.63322247, 0.65461131, 0.67666734, 0.69937505, 0.72271892,\n",
              "       0.74668344, 0.77125308, 0.79641233, 0.82214568, 0.8484376 ,\n",
              "       0.87527259, 0.90263513, 0.9305097 , 0.95888078, 0.98773287,\n",
              "       1.01705043, 1.04681796, 1.07701995, 1.10764086, 1.1386652 ,\n",
              "       1.17007744, 1.20186206, 1.23400355, 1.2664864 , 1.29929509,\n",
              "       1.3324141 , 1.36582791, 1.39952101, 1.43347789, 1.46768303,\n",
              "       1.5021209 , 1.536776  , 1.57163281, 1.60667582, 1.6418895 ,\n",
              "       1.67725834, 1.71276683, 1.74839944, 1.78414067, 1.81997499,\n",
              "       1.8558869 , 1.89186087, 1.92788138, 1.96393293, 2.        ])"
            ]
          },
          "metadata": {},
          "execution_count": 35
        }
      ]
    },
    {
      "cell_type": "code",
      "source": [
        "f(3.75)"
      ],
      "metadata": {
        "colab": {
          "base_uri": "https://localhost:8080/"
        },
        "id": "IDGNWsZrwtLt",
        "outputId": "072a0416-13aa-4d9f-c69b-c88267983895"
      },
      "execution_count": 36,
      "outputs": [
        {
          "output_type": "execute_result",
          "data": {
            "text/plain": [
              "array(0.67947049)"
            ]
          },
          "metadata": {},
          "execution_count": 36
        }
      ]
    },
    {
      "cell_type": "code",
      "source": [
        "plt.figure(figsize = (10,8))\n",
        "plt.plot(x_new, y_new, 'b')\n",
        "plt.plot(x, y, 'ro')\n",
        "plt.title('Cubic Spline Interpolation')\n",
        "plt.xlabel('x')\n",
        "plt.ylabel('y')\n",
        "plt.show()"
      ],
      "metadata": {
        "colab": {
          "base_uri": "https://localhost:8080/",
          "height": 538
        },
        "id": "VvwSPTdQxqK5",
        "outputId": "b72c2b96-75e5-4a8d-f220-c4afd3346a0e"
      },
      "execution_count": 37,
      "outputs": [
        {
          "output_type": "display_data",
          "data": {
            "image/png": "[encoded data removed]",
            "text/plain": [
              "<Figure size 720x576 with 1 Axes>"
            ]
          },
          "metadata": {
            "needs_background": "light"
          }
        }
      ]
    },
    {
      "cell_type": "code",
      "source": [
        "# This program only works for 1 float X at a time. X is not an array. \n",
        "def my_cubic_spline(x, y, X):\n",
        "    N = len(x) - 1\n",
        "    m = [] \n",
        "    n = [] \n",
        "    A = []\n",
        "    B = []\n",
        "    C = []\n",
        "    D = []\n",
        "    second_der = []\n",
        "    result = 0\n",
        "\n",
        "    for i in range(N):\n",
        "      m =  m + [(x[i+1] - x[i])]      \n",
        "\n",
        "    for i in range(N):\n",
        "      n = n + [(y[i+1] - y[i]) / m[i]]    \n",
        "    \n",
        "    for i in range(N-1):\n",
        "      second_der = second_der + [3 * (n[i+1] - n[i]) / (m[i+1] + m[i])]\n",
        "\n",
        "    second_der = [0] + second_der +[0]\n",
        "    \n",
        "    for i in range(N):\n",
        "      A = A + [(second_der[i+1] - second_der[i]) / (6 * m[i])]   \n",
        "\n",
        "    for i in range(N):\n",
        "      B = B + [second_der[i] / 2]\n",
        "\n",
        "    for i in range(N):\n",
        "      C = C + [n[i] - m[i] * (second_der[i+1] + 2 * second_der[i]) / 6]\n",
        "\n",
        "    for i in range(N):     \n",
        "      D = D + [y[i]] \n",
        "\n",
        "    for i in range(N):\n",
        "      for k in range(len(X)):\n",
        "        if X[k] > x[i] and X[k] < x[i+1]:\n",
        "          print('A =' + str(A[i]))\n",
        "          print('B =' + str(B[i]))\n",
        "          print('C =' + str(C[i]))\n",
        "          print('D =' + str(D[i]))\n",
        "          print('The function is f(x) = A_final(x-x_final)^3 + B_final(x-x_final)^2 + C_final(x-x_final) + D_final')\n",
        "          x_final = x[i]\n",
        "          A_final = A[i]\n",
        "          B_final = B[i]\n",
        "          C_final = C[i]\n",
        "          D_final = D[i]\n",
        "          result = A_final* pow((X[k]-x_final),3) + B_final*pow((X[k]-x_final),2) + C_final*(X[k]-x_final) + D_final\n",
        "          print(result)\n",
        "        else: \n",
        "          break"
      ],
      "metadata": {
        "id": "iraQbhRbdjtG"
      },
      "execution_count": 213,
      "outputs": []
    },
    {
      "cell_type": "code",
      "source": [
        "x = np.array([1, 2, 5])\n",
        "y = np.array([3, 1, 2])\n",
        "X = [1.96]\n",
        "my_cubic_spline(x, y, X)"
      ],
      "metadata": {
        "colab": {
          "base_uri": "https://localhost:8080/"
        },
        "id": "G0H9Z7UmeRKs",
        "outputId": "41db026d-06d2-45a3-977c-d25444bb8802"
      },
      "execution_count": 212,
      "outputs": [
        {
          "output_type": "stream",
          "name": "stdout",
          "text": [
            "A =0.2916666666666667\n",
            "B =0.0\n",
            "C =-2.2916666666666665\n",
            "D =3\n",
            "The function is f(x) = A_final(x-x_final)^3 + B_final(x-x_final)^2 + C_final(x-x_final) + D_final\n",
            "1.0580480000000003\n"
          ]
        }
      ]
    },
    {
      "cell_type": "code",
      "source": [
        "#check\n",
        "x = [1, 2, 5]\n",
        "y = [3, 1, 2]\n",
        "# use bc_type = 'natural' adds the constraints\n",
        "f = CubicSpline(x, y, bc_type='natural')\n",
        "f(1.96)"
      ],
      "metadata": {
        "colab": {
          "base_uri": "https://localhost:8080/"
        },
        "id": "RhJdc5FjnIiX",
        "outputId": "a1eacc11-e927-430e-ebc3-365d3a64f27e"
      },
      "execution_count": 211,
      "outputs": [
        {
          "output_type": "execute_result",
          "data": {
            "text/plain": [
              "array(1.058048)"
            ]
          },
          "metadata": {},
          "execution_count": 211
        }
      ]
    }
  ]
}